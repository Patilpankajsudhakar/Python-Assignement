{
 "cells": [
  {
   "cell_type": "raw",
   "id": "3a8859d9-cf0f-47c5-85cf-38b286eeb272",
   "metadata": {},
   "source": [
    "1. What is the result of the code, and why?\n",
    "ans:\n",
    "in using def func is created in the function default value for b and c are given after call the func and pass the argument for a and b and but c is not given so c is printed as 8"
   ]
  },
  {
   "cell_type": "code",
   "execution_count": 2,
   "id": "38d73c1f-99b2-467b-b0a7-cbc987e2fc9e",
   "metadata": {},
   "outputs": [
    {
     "name": "stdout",
     "output_type": "stream",
     "text": [
      "1 2 8\n"
     ]
    }
   ],
   "source": [
    "def func(a, b=6, c=8):\n",
    "     print(a, b, c)\n",
    "func(1, 2)"
   ]
  },
  {
   "cell_type": "raw",
   "id": "9081ba85-15fc-4b1b-9e26-778fee96ee59",
   "metadata": {},
   "source": [
    "2. What is the result of this code, and why?\n",
    "ans:\n",
    "he line func() takes three values, that is 1 , c= 3 snd b = 2 respectively,the func() is defined to take 3 values, as in func() we pass othree values, the default values gets overwritten, and we get the newly passed values"
   ]
  },
  {
   "cell_type": "code",
   "execution_count": 3,
   "id": "e26d7e41-9635-418f-b872-6e469d870dcf",
   "metadata": {},
   "outputs": [
    {
     "name": "stdout",
     "output_type": "stream",
     "text": [
      "1 2 3\n"
     ]
    }
   ],
   "source": [
    "def func(a, b, c=5):\n",
    "    print(a, b, c)\n",
    "func(1, c=3, b=2)"
   ]
  },
  {
   "cell_type": "raw",
   "id": "1c975ad9-d599-4be8-b0d0-dfe58828dde2",
   "metadata": {},
   "source": [
    "3. How about this code: what is its result, and why?\n",
    "ans:\n",
    " The special syntax pargs in function definitions in python is used to pass a variable number of arguments to a function. It is used to pass a non-key worded, variable-length argument list. The syntax is to use the symbol to take in a variable number of arguments; by convention, it is often used with the word args.\n",
    "\n",
    "What pargs allows you to do is take in more arguments than the number of formal arguments that you previously defined. With pargs, any number of extra arguments can be tacked on to your current formal parameters (including zero extra arguments).\n",
    "\n"
   ]
  },
  {
   "cell_type": "code",
   "execution_count": 4,
   "id": "953a4b22-024e-4d90-8e18-0b9c9d5996c5",
   "metadata": {},
   "outputs": [
    {
     "name": "stdout",
     "output_type": "stream",
     "text": [
      "1 (2, 3)\n"
     ]
    }
   ],
   "source": [
    "def func(a, *pargs):\n",
    "    print(a, pargs)\n",
    "func(1, 2, 3)\n"
   ]
  },
  {
   "cell_type": "raw",
   "id": "be1483d7-ac49-4581-9711-b82afc6ab3e4",
   "metadata": {},
   "source": [
    "4. What does this code print, and why?\n",
    "ans:\n",
    "    The special syntax **kargs in function definitions in python is used to pass a keyworded, variable-length argument list. We use the name kwargs with the double star. The reason is because the double star allows us to pass through keyword arguments (and any number of them)"
   ]
  },
  {
   "cell_type": "code",
   "execution_count": 6,
   "id": "6e373c2c-d05e-4583-9996-c3915901301a",
   "metadata": {},
   "outputs": [
    {
     "name": "stdout",
     "output_type": "stream",
     "text": [
      "1 {'c': 3, 'b': 2}\n"
     ]
    }
   ],
   "source": [
    "def func(a, **kargs):\n",
    "    print(a, kargs)\n",
    "func(a=1, c=3, b=2)"
   ]
  },
  {
   "cell_type": "raw",
   "id": "e164545c-6944-44e0-a335-66cf259d4aae",
   "metadata": {},
   "source": [
    "5. What gets printed by this, and explain?\n",
    "ans:\n",
    "    "
   ]
  },
  {
   "cell_type": "code",
   "execution_count": 7,
   "id": "720f5905-c348-4330-97e9-403fb77f5ffb",
   "metadata": {},
   "outputs": [
    {
     "name": "stdout",
     "output_type": "stream",
     "text": [
      "1 5 6 5\n"
     ]
    }
   ],
   "source": [
    "def func(a, b, c=8, d=5): \n",
    "    print(a, b, c, d)\n",
    "func(1, *(5, 6))"
   ]
  },
  {
   "cell_type": "raw",
   "id": "b830d8a1-1d53-49b1-b11d-76353f8762aa",
   "metadata": {},
   "source": [
    "6. what is the result of this, and explain?"
   ]
  },
  {
   "cell_type": "code",
   "execution_count": 11,
   "id": "a33bc84f-9652-4cf3-a3e5-b1c75458ec19",
   "metadata": {},
   "outputs": [
    {
     "data": {
      "text/plain": [
       "(1, ['x'], {'a': 'y'})"
      ]
     },
     "execution_count": 11,
     "metadata": {},
     "output_type": "execute_result"
    }
   ],
   "source": [
    "def func(a, b, c): \n",
    "    a = 2; b[0] = 'x'; c['a'] = 'y'\n",
    "l=1; m=[1]; n={'a':0}\n",
    "func(l, m, n)\n",
    "l,m,n"
   ]
  }
 ],
 "metadata": {
  "kernelspec": {
   "display_name": "Python 3 (ipykernel)",
   "language": "python",
   "name": "python3"
  },
  "language_info": {
   "codemirror_mode": {
    "name": "ipython",
    "version": 3
   },
   "file_extension": ".py",
   "mimetype": "text/x-python",
   "name": "python",
   "nbconvert_exporter": "python",
   "pygments_lexer": "ipython3",
   "version": "3.10.6"
  }
 },
 "nbformat": 4,
 "nbformat_minor": 5
}
