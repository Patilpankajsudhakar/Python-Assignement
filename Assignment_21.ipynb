{
 "cells": [
  {
   "cell_type": "raw",
   "id": "8d0bcb8e-a80e-46f6-8403-2668c4a633ba",
   "metadata": {},
   "source": [
    "1. Add the current date to the text file today.txt as a string.\n"
   ]
  },
  {
   "cell_type": "code",
   "execution_count": 4,
   "id": "f9b0dffb-4197-41bd-8b30-cd4bed57581a",
   "metadata": {},
   "outputs": [],
   "source": [
    "from datetime import date\n",
    "now = date.today()\n",
    "now_str = now.isoformat()\n",
    "with open('today.txt', 'wt') as output:\n",
    "    print(now_str, file=output)"
   ]
  },
  {
   "cell_type": "raw",
   "id": "971cad42-bae8-45d6-baa7-c8b1aa3998b7",
   "metadata": {},
   "source": [
    "2. Read the text file today.txt into the string today_string\n"
   ]
  },
  {
   "cell_type": "code",
   "execution_count": 5,
   "id": "7ccaaf33-3c48-460c-b481-8e0b15bea1b8",
   "metadata": {},
   "outputs": [
    {
     "data": {
      "text/plain": [
       "'2022-12-19\\n'"
      ]
     },
     "execution_count": 5,
     "metadata": {},
     "output_type": "execute_result"
    }
   ],
   "source": [
    "with open('today.txt', 'rt') as input:\n",
    "    today_string = input.read()\n",
    "    \n",
    "today_string"
   ]
  },
  {
   "cell_type": "raw",
   "id": "b5bfae48-b368-4e91-944c-089496cbcc44",
   "metadata": {},
   "source": [
    "3. Parse the date from today_string.\n"
   ]
  },
  {
   "cell_type": "code",
   "execution_count": 6,
   "id": "bdc24169-d0ee-48da-9a81-1a3ba7cc5b62",
   "metadata": {},
   "outputs": [
    {
     "data": {
      "text/plain": [
       "datetime.datetime(2022, 12, 19, 0, 0)"
      ]
     },
     "execution_count": 6,
     "metadata": {},
     "output_type": "execute_result"
    }
   ],
   "source": [
    "from datetime import datetime\n",
    "fmt = '%Y-%m-%d\\n'\n",
    "datetime.strptime(today_string, fmt)"
   ]
  },
  {
   "cell_type": "raw",
   "id": "66ad8619-1133-4547-8abc-8625142cb383",
   "metadata": {},
   "source": [
    "4. List the files in your current directory\n"
   ]
  },
  {
   "cell_type": "code",
   "execution_count": 9,
   "id": "c0ae8eab-8561-4583-8404-3ced6493bd0e",
   "metadata": {},
   "outputs": [
    {
     "data": {
      "text/plain": [
       "['README.md',\n",
       " 'g4g.csv',\n",
       " 'Assignment_15.ipynb',\n",
       " 'Assignment_18.ipynb',\n",
       " 'test.txt',\n",
       " 'Assignment_14.ipynb',\n",
       " 'sample-code.ipynb',\n",
       " 'zoo.py',\n",
       " 'Assignment_10.ipynb',\n",
       " 'Assignment 5.ipynb',\n",
       " 'Assignment_21.ipynb',\n",
       " '.git',\n",
       " 'Assignment_13.ipynb',\n",
       " 'Assignment_12.ipynb',\n",
       " 'Assignment 4.ipynb',\n",
       " 'Assignment_9.ipynb',\n",
       " 'Assignment_20.ipynb',\n",
       " 'Assignment_7.ipynb',\n",
       " 'pankaj.png',\n",
       " 'Assignment_11.ipynb',\n",
       " 'Assignment_6.ipynb',\n",
       " 'Assignment_8.ipynb',\n",
       " 'Assignment_19.ipynb',\n",
       " 'Assignment_16.ipynb',\n",
       " 'Assignment 3.ipynb',\n",
       " '__pycache__',\n",
       " 'books.db',\n",
       " 'Assignment_17.ipynb',\n",
       " 'Untitled.ipynb',\n",
       " '.ipynb_checkpoints',\n",
       " 'today.txt',\n",
       " 'books.csv']"
      ]
     },
     "execution_count": 9,
     "metadata": {},
     "output_type": "execute_result"
    }
   ],
   "source": [
    "import os\n",
    "os.listdir('.')"
   ]
  },
  {
   "cell_type": "raw",
   "id": "8333bd14-41bc-47b2-9835-83a5b2e5fcaf",
   "metadata": {},
   "source": [
    "5. Create a list of all of the files in your parent directory (minimum five files should be available).\n"
   ]
  },
  {
   "cell_type": "code",
   "execution_count": 12,
   "id": "19bfa896-9f05-4eb1-a57e-cd4464b31ee0",
   "metadata": {},
   "outputs": [
    {
     "data": {
      "text/plain": [
       "['.profile',\n",
       " '.bash_logout',\n",
       " '.bashrc',\n",
       " '.ipython',\n",
       " '.cache',\n",
       " '.jupyter',\n",
       " '.local',\n",
       " '.conda',\n",
       " '.config',\n",
       " '.npm',\n",
       " '.wget-hsts',\n",
       " 'work']"
      ]
     },
     "execution_count": 12,
     "metadata": {},
     "output_type": "execute_result"
    }
   ],
   "source": [
    "os.listdir('..')"
   ]
  },
  {
   "cell_type": "raw",
   "id": "17a484c5-ca28-401a-8ae4-160f68d9d8a6",
   "metadata": {},
   "source": [
    "6. Use multiprocessing to create three separate processes. Make each one wait a random number of seconds between one and five, print the current time, and then exit.\n"
   ]
  },
  {
   "cell_type": "code",
   "execution_count": 13,
   "id": "50d94668-fab6-4186-96c3-75a81c91d856",
   "metadata": {},
   "outputs": [
    {
     "name": "stdout",
     "output_type": "stream",
     "text": [
      "python: can't open file '/home/jovyan/work/multi_process.py': [Errno 2] No such file or directory\n"
     ]
    }
   ],
   "source": [
    "!python multi_process.py"
   ]
  },
  {
   "cell_type": "raw",
   "id": "b25aef80-d4bd-4760-ae94-1be521cf341b",
   "metadata": {},
   "source": [
    "7. Create a date object of your day of birth.\n"
   ]
  },
  {
   "cell_type": "code",
   "execution_count": 16,
   "id": "fd88fc7c-0fbe-4522-b07e-f6971cb18b30",
   "metadata": {},
   "outputs": [
    {
     "data": {
      "text/plain": [
       "datetime.date(1999, 2, 10)"
      ]
     },
     "execution_count": 16,
     "metadata": {},
     "output_type": "execute_result"
    }
   ],
   "source": [
    "my_day = date(1999, 2, 10)\n",
    "my_day"
   ]
  },
  {
   "cell_type": "raw",
   "id": "5b557e1d-4ddd-4038-8d18-51d5484ea8aa",
   "metadata": {},
   "source": [
    "8. What day of the week was your day of birth?\n",
    "With weekday(), Monday is 0 and Sunday is 6. With isoweekday(), Monday is 1 and\n",
    "Sunday is 7. Therefore, this date is a Saturday."
   ]
  },
  {
   "cell_type": "code",
   "execution_count": 18,
   "id": "6761900e-8ca2-4cb8-9f25-aa8a34a9b5c0",
   "metadata": {},
   "outputs": [
    {
     "data": {
      "text/plain": [
       "2"
      ]
     },
     "execution_count": 18,
     "metadata": {},
     "output_type": "execute_result"
    }
   ],
   "source": [
    "my_day.weekday()"
   ]
  },
  {
   "cell_type": "code",
   "execution_count": 19,
   "id": "cdff29f3-5856-409f-96fb-00e2c3a6b0a3",
   "metadata": {},
   "outputs": [
    {
     "data": {
      "text/plain": [
       "3"
      ]
     },
     "execution_count": 19,
     "metadata": {},
     "output_type": "execute_result"
    }
   ],
   "source": [
    "my_day.isoweekday()"
   ]
  },
  {
   "cell_type": "raw",
   "id": "7b0d81b7-e3db-45ba-a1de-e7dd1d149c98",
   "metadata": {},
   "source": [
    "9. When will you be (or when were you) 10,000 days old?\n"
   ]
  },
  {
   "cell_type": "code",
   "execution_count": 20,
   "id": "8134c2cb-a1c7-4f04-a6e1-9616524bf23b",
   "metadata": {},
   "outputs": [
    {
     "data": {
      "text/plain": [
       "datetime.date(2026, 6, 28)"
      ]
     },
     "execution_count": 20,
     "metadata": {},
     "output_type": "execute_result"
    }
   ],
   "source": [
    "from datetime import timedelta\n",
    "ten_thousand = my_day + timedelta(days=10000)\n",
    "ten_thousand"
   ]
  }
 ],
 "metadata": {
  "kernelspec": {
   "display_name": "Python 3 (ipykernel)",
   "language": "python",
   "name": "python3"
  },
  "language_info": {
   "codemirror_mode": {
    "name": "ipython",
    "version": 3
   },
   "file_extension": ".py",
   "mimetype": "text/x-python",
   "name": "python",
   "nbconvert_exporter": "python",
   "pygments_lexer": "ipython3",
   "version": "3.10.6"
  }
 },
 "nbformat": 4,
 "nbformat_minor": 5
}
