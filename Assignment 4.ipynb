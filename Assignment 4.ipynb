{
 "cells": [
  {
   "cell_type": "raw",
   "id": "224fce43-92e9-44d1-b3db-fed6301425cd",
   "metadata": {},
   "source": [
    "1. What exactly is []?\n",
    "Ans:\n",
    "The empty list value, which is a list value that contains no items. This is similar to how '' is the empty string value"
   ]
  },
  {
   "cell_type": "raw",
   "id": "7f8aa386-a29f-47f5-b69d-a84ef525b210",
   "metadata": {},
   "source": [
    "2. In a list of values stored in a variable called spam, how would you assign the value 'hello' as the third value? (Assume [2, 4, 6, 8, 10] are in spam.)\n",
    "Let's pretend the spam includes the list ['a', 'b', 'c', 'd'] for the next three queries.\n"
   ]
  },
  {
   "cell_type": "code",
   "execution_count": 51,
   "id": "32634ee7-918f-4157-aad0-a440608a3d3a",
   "metadata": {},
   "outputs": [],
   "source": [
    "#Ans\n",
    "spam=[2,4,6,8,10]\n",
    "spam[2]='hello' #Notice that the third value in a list is at index 2 because the first index is 0.\n",
    "spam\n",
    "spam=['a','b','c','d']"
   ]
  },
  {
   "cell_type": "raw",
   "id": "83f4662d-6715-462c-8212-c936ea88ff40",
   "metadata": {},
   "source": [
    "3. What is the value of spam[int(int('3' * 2) / 11)]?\n"
   ]
  },
  {
   "cell_type": "code",
   "execution_count": 52,
   "id": "2cbd18ed-2b43-45f5-9d26-7feff1d85017",
   "metadata": {},
   "outputs": [
    {
     "data": {
      "text/plain": [
       "'d'"
      ]
     },
     "execution_count": 52,
     "metadata": {},
     "output_type": "execute_result"
    }
   ],
   "source": [
    "#Ans:\n",
    "spam[int(int('3' * 2) / 11)]\n",
    "#Note that '3' * 2 is the string '33', which is passed to int() before being divided by 11. \n",
    "#This eventually evaluates to 3. \n",
    "#Expressions can be used wherever values are used"
   ]
  },
  {
   "cell_type": "raw",
   "id": "dcc835d7-102c-488e-9be9-7a60d90172c8",
   "metadata": {},
   "source": [
    "4. What is the value of spam[-1]?"
   ]
  },
  {
   "cell_type": "code",
   "execution_count": 53,
   "id": "79217052-5e14-4575-bc73-5d3bdcea54a3",
   "metadata": {},
   "outputs": [
    {
     "data": {
      "text/plain": [
       "'d'"
      ]
     },
     "execution_count": 53,
     "metadata": {},
     "output_type": "execute_result"
    }
   ],
   "source": [
    "#Ans:\n",
    "spam[-1] #Negative indexes count from the end"
   ]
  },
  {
   "cell_type": "raw",
   "id": "7f626632-b2c9-47d8-a50a-c62562e9a4a7",
   "metadata": {
    "tags": []
   },
   "source": [
    "5. What is the value of spam[:2]?\n",
    "Let's pretend bacon has the list [3.14, 'cat,' 11, 'cat,' True] for the next three questions.\n"
   ]
  },
  {
   "cell_type": "code",
   "execution_count": 54,
   "id": "186fe763-7703-4f9d-ae30-2b3708d74ab7",
   "metadata": {},
   "outputs": [],
   "source": [
    "#Ans\n",
    "spam[:2] \n",
    "bacon=[3.14, 'cat', 11, 'cat', True] # for next three questions\n"
   ]
  },
  {
   "cell_type": "raw",
   "id": "dacb07df-2a10-42cb-924c-d021b8e4f079",
   "metadata": {},
   "source": [
    "6. What is the value of bacon.index('cat')?\n"
   ]
  },
  {
   "cell_type": "code",
   "execution_count": 55,
   "id": "9a991a7b-b25b-49b5-aaaa-693d3fedd372",
   "metadata": {},
   "outputs": [
    {
     "data": {
      "text/plain": [
       "1"
      ]
     },
     "execution_count": 55,
     "metadata": {},
     "output_type": "execute_result"
    }
   ],
   "source": [
    "#Ans\n",
    "bacon.index('cat')"
   ]
  },
  {
   "cell_type": "raw",
   "id": "a04b2b65-a226-4fd0-ad4c-58796ecedcaf",
   "metadata": {},
   "source": [
    "7. How does bacon.append(99) change the look of the list value in bacon?\n"
   ]
  },
  {
   "cell_type": "code",
   "execution_count": 56,
   "id": "a0ec4872-0ee5-4faf-9e1a-49b61918514e",
   "metadata": {},
   "outputs": [
    {
     "data": {
      "text/plain": [
       "[3.14, 'cat', 11, 'cat', True, 99]"
      ]
     },
     "execution_count": 56,
     "metadata": {},
     "output_type": "execute_result"
    }
   ],
   "source": [
    "bacon.append(99)\n",
    "bacon"
   ]
  },
  {
   "cell_type": "raw",
   "id": "58b001ed-90dc-4796-9532-6e4cadc6d7f7",
   "metadata": {},
   "source": [
    "8. How does bacon.remove('cat') change the look of the list in bacon?\n"
   ]
  },
  {
   "cell_type": "code",
   "execution_count": 57,
   "id": "b75a2983-9414-4d11-bd6f-853f3c79992b",
   "metadata": {},
   "outputs": [
    {
     "data": {
      "text/plain": [
       "[3.14, 11, 'cat', True, 99]"
      ]
     },
     "execution_count": 57,
     "metadata": {},
     "output_type": "execute_result"
    }
   ],
   "source": [
    "#Ans\n",
    "bacon.remove('cat')\n",
    "bacon"
   ]
  },
  {
   "cell_type": "raw",
   "id": "168fdb00-ad71-401f-a041-7420c8f7d7a4",
   "metadata": {},
   "source": [
    "9. What are the list concatenation and list replication operators?\n",
    "Ans:\n",
    "    The operator for list concatenation is +, while the operator for replication is *. (This is the same as for strings.)\n",
    "    "
   ]
  },
  {
   "cell_type": "code",
   "execution_count": 58,
   "id": "affa1ad6-2e08-4008-8b7a-b3ac7edb48b7",
   "metadata": {},
   "outputs": [
    {
     "name": "stdout",
     "output_type": "stream",
     "text": [
      "Welcome to python\n",
      "pythonpythonpython\n"
     ]
    }
   ],
   "source": [
    "#Example of concatenation\n",
    "s1=\"Welcome\"\n",
    "s2=\"to\"\n",
    "s3=\"python\"\n",
    "s4=s1+\" \" + s2+\" \"+ s3\n",
    "print(s4)\n",
    "#Example of replication\n",
    "s1=\"python\"\n",
    "print (s1*3)"
   ]
  },
  {
   "cell_type": "raw",
   "id": "f9fec02c-4e08-4565-af8c-ed6eb07f55b7",
   "metadata": {},
   "source": [
    "10. What is difference between the list methods append() and insert()?\n",
    "Ans:\n",
    "1) append() will add the item you pass as the argument to the function always to the end of the list.\n",
    "2) If you don't want to just add items to the end of a list, you can specify the position you want to add them with .insert().\n",
    "eg. list_name.insert(position,item)"
   ]
  },
  {
   "cell_type": "code",
   "execution_count": 59,
   "id": "0ec07077-abe9-4a0d-8338-daf381fe17c9",
   "metadata": {},
   "outputs": [
    {
     "name": "stdout",
     "output_type": "stream",
     "text": [
      "['English', 'marathi', 'Hindi']\n",
      "['Python', 'JavaScript', 'Java', 'C++']\n"
     ]
    }
   ],
   "source": [
    "#Example of append\n",
    "languages = [\"English\", \"marathi\"]\n",
    "languages.append(\"Hindi\")\n",
    "\n",
    "print(languages)\n",
    "#Example of insert\n",
    "programming_languages = [\"JavaScript\", \"Java\", \"C++\"]\n",
    "\n",
    "programming_languages.insert(0, \"Python\")\n",
    "\n",
    "print(programming_languages)"
   ]
  },
  {
   "cell_type": "raw",
   "id": "e763203a-521b-4db4-b3cc-6d905dd2ed87",
   "metadata": {},
   "source": [
    "11. What are the two methods for removing items from a list?\n",
    "Ans:\n",
    "The methods are remove(), pop() and clear(). \n",
    "It helps to remove the very first given element matching from the list. \n",
    "The pop() method removes an element from the list based on the index given. \n",
    "The clear() method will remove all the elements present in the list"
   ]
  },
  {
   "cell_type": "raw",
   "id": "7766a246-e6ac-4564-b559-88aa2d47fa3c",
   "metadata": {},
   "source": [
    "12. Describe how list values and string values are identical.\n",
    "Ans:\n",
    "    Both strings and lists have lengths: a string's length is the number of characters in the string; a list's length is the number of items in the list. Each character in a string as well as each item in a list has a position, also called an index"
   ]
  },
  {
   "cell_type": "raw",
   "id": "7397e6ea-d44c-48ff-b4a8-c062d7a9543e",
   "metadata": {},
   "source": [
    "13. What's the difference between tuples and lists?\n",
    "Ans:\n",
    "    The primary difference between tuples and lists is that tuples are immutable as opposed to lists which are mutable. Therefore, it is possible to change a list but not a tuple. The contents of a tuple cannot change once they have been created in Python due to the immutability of tuples\n",
    "    "
   ]
  },
  {
   "cell_type": "code",
   "execution_count": 60,
   "id": "45220b7c-6847-4796-b5ac-a3062e74cbc1",
   "metadata": {},
   "outputs": [
    {
     "name": "stdout",
     "output_type": "stream",
     "text": [
      "[8, 0, 3, 4, 5] i.e List are muttable [8,24,3,4,5] index of this list is change to 0\n"
     ]
    },
    {
     "ename": "TypeError",
     "evalue": "'tuple' object does not support item assignment",
     "output_type": "error",
     "traceback": [
      "\u001b[0;31m---------------------------------------------------------------------------\u001b[0m",
      "\u001b[0;31mTypeError\u001b[0m                                 Traceback (most recent call last)",
      "Cell \u001b[0;32mIn [60], line 6\u001b[0m\n\u001b[1;32m      3\u001b[0m \u001b[38;5;28mprint\u001b[39m(l,\u001b[38;5;124m\"\u001b[39m\u001b[38;5;124mi.e List are muttable [8,24,3,4,5] index of this list is change to 0\u001b[39m\u001b[38;5;124m\"\u001b[39m)\n\u001b[1;32m      5\u001b[0m t\u001b[38;5;241m=\u001b[39m(\u001b[38;5;241m8\u001b[39m,\u001b[38;5;241m24\u001b[39m,\u001b[38;5;241m3\u001b[39m,\u001b[38;5;241m4\u001b[39m,\u001b[38;5;241m5\u001b[39m)\n\u001b[0;32m----> 6\u001b[0m \u001b[43mt\u001b[49m\u001b[43m[\u001b[49m\u001b[38;5;241;43m1\u001b[39;49m\u001b[43m]\u001b[49m\u001b[38;5;241m=\u001b[39m\u001b[38;5;241m0\u001b[39m\n\u001b[1;32m      7\u001b[0m \u001b[38;5;28mprint\u001b[39m(t,\u001b[38;5;124m\"\u001b[39m\u001b[38;5;124mi.e tuples are immuttable [8,24,3,4,5] index of this not is change to 0\u001b[39m\u001b[38;5;124m\"\u001b[39m)\n",
      "\u001b[0;31mTypeError\u001b[0m: 'tuple' object does not support item assignment"
     ]
    }
   ],
   "source": [
    "l=[8,24,3,4,5]\n",
    "l[1]=0\n",
    "print(l,\"i.e List are muttable [8,24,3,4,5] index of this list is change to 0\")\n",
    "\n",
    "t=(8,24,3,4,5)\n",
    "t[1]=0\n",
    "print(t,\"i.e tuples are immuttable [8,24,3,4,5] index of this not is change to 0\")"
   ]
  },
  {
   "cell_type": "raw",
   "id": "9152b267-2229-48d4-ab0b-50a0d1f891c1",
   "metadata": {},
   "source": [
    "14. How do you type a tuple value that only contains the integer 42?\n",
    "    "
   ]
  },
  {
   "cell_type": "code",
   "execution_count": 61,
   "id": "4283c6cf-d401-4dc1-9068-2903247311e3",
   "metadata": {},
   "outputs": [
    {
     "data": {
      "text/plain": [
       "(42,)"
      ]
     },
     "execution_count": 61,
     "metadata": {},
     "output_type": "execute_result"
    }
   ],
   "source": [
    "#Ans\n",
    "tuple=(42,) #(The trailing comma is mandatory.) if we not use this format for one value \n",
    "                    #then it is not tuple its only a interger\n",
    "tuple"
   ]
  },
  {
   "cell_type": "raw",
   "id": "01faf153-da87-4824-b1d1-fc2fede057f9",
   "metadata": {},
   "source": [
    "15. How do you get a list value's tuple form? How do you get a tuple value's list form?\n",
    "Ans:\n",
    "\n",
    "list to tuple\n",
    "        An iterable can be passed as an input to the tuple () function,\n",
    "which will convert it to a tuple object. If you want to convert a Python list to a tuple,\n",
    "you can use the tuple() function to pass the full list as an argument,\n",
    "and it will return the tuple data type as an output.\n",
    "\n",
    "my_list=[1, 2, 3]\n",
    "my_tuple=tuple(my_list)\n",
    "print(my_tuple)\n",
    "\n",
    "List comprehension along with zip() function is used to convert the tuples to list and create a list of tuples. Python iter() function is used to iterate an element of an object at a time. The 'number' would specify the number of elements to be clubbed into a single tuple to form a list."
   ]
  },
  {
   "cell_type": "raw",
   "id": "12cdd45d-3769-4d67-a06f-61e26d5727c0",
   "metadata": {},
   "source": [
    "16. Variables that \"contain\" list values are not necessarily lists themselves. Instead, what do they contain?\n",
    "Ans:\n",
    "Variables will contain references to list values rather than list values themselves. But for strings and integer values, variables simply contain the string or integer value.\n",
    "     "
   ]
  },
  {
   "cell_type": "raw",
   "id": "0f84676a-26dc-4688-b63d-e447260a2322",
   "metadata": {},
   "source": [
    "17. How do you distinguish between copy.copy() and copy.deepcopy()?\n",
    "Ans:\n",
    "    copy() create reference to original object. If you change copied object - you change the original object. . deepcopy() creates new object and does real copying of original object to new one\n",
    "    "
   ]
  },
  {
   "cell_type": "code",
   "execution_count": 62,
   "id": "c3578c1e-3b69-4727-80c9-1bbe176b950e",
   "metadata": {},
   "outputs": [
    {
     "name": "stdout",
     "output_type": "stream",
     "text": [
      "li2 ID:  140348521682944 Value:  [1, 2, [3, 5], 4]\n",
      "li3 ID:  140348521342208 Value:  [1, 2, [3, 5], 4]\n"
     ]
    },
    {
     "data": {
      "text/plain": [
       "'The copy() returns a shallow copy of the list, and deepcopy() returns a deep copy of the list. \\nAs you can see that both have the same value but have different IDs'"
      ]
     },
     "execution_count": 62,
     "metadata": {},
     "output_type": "execute_result"
    }
   ],
   "source": [
    "import copy\n",
    " \n",
    "# initializing list 1\n",
    "li1 = [1, 2, [3, 5], 4]\n",
    " \n",
    "# using copy for shallow copy\n",
    "li2 = copy.copy(li1)\n",
    "print(\"li2 ID: \", id(li2), \"Value: \", li2)\n",
    "# using deepcopy for deepcopy\n",
    "li3 = copy.deepcopy(li1)\n",
    "print(\"li3 ID: \", id(li3), \"Value: \", li3)\n",
    "\n",
    "'''The copy() returns a shallow copy of the list, and deepcopy() returns a deep copy of the list. \n",
    "As you can see that both have the same value but have different IDs'''"
   ]
  }
 ],
 "metadata": {
  "kernelspec": {
   "display_name": "Python 3 (ipykernel)",
   "language": "python",
   "name": "python3"
  },
  "language_info": {
   "codemirror_mode": {
    "name": "ipython",
    "version": 3
   },
   "file_extension": ".py",
   "mimetype": "text/x-python",
   "name": "python",
   "nbconvert_exporter": "python",
   "pygments_lexer": "ipython3",
   "version": "3.10.6"
  }
 },
 "nbformat": 4,
 "nbformat_minor": 5
}
