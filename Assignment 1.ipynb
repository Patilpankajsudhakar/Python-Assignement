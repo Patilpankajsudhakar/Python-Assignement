{
 "cells": [
  {
   "cell_type": "markdown",
   "id": "c789f521",
   "metadata": {},
   "source": [
    "# Assignmet 1"
   ]
  },
  {
   "cell_type": "raw",
   "id": "c47ebdbf",
   "metadata": {},
   "source": [
    "1. In the below elements which of them are values or an expression? eg:- values can be\n",
    "integer or string and expressions will be mathematical operators.\n",
    "\n",
    "Answer-\n",
    "* - / + are Mathamatical expressions\n",
    "'hello' is string so it is value\n",
    "-87.8 is float so it value\n",
    "6 is integer, it is value"
   ]
  },
  {
   "cell_type": "raw",
   "id": "52b823d4",
   "metadata": {},
   "source": [
    "2. What is the difference between string and variable?\n",
    "Answer:-\n",
    "A variable are symbols that you can use to store data in a program. we store the any type of observation in one variabe for example int, string, float etc with help of list, tuple or dict.\n",
    "strings are data type to store, string is type of information you would store in a variable.\n",
    "string usually words, enclosed with single or double quote\n",
    "eg. \"hello world\" or 'hello world'"
   ]
  },
  {
   "cell_type": "raw",
   "id": "865a2bb9",
   "metadata": {},
   "source": [
    "3. Describe three different data types.\n",
    " Answer:- \n",
    " 1) Intger (int): interges are zero, postive or negative whole number without a fractional part and having unlimited precision.\n",
    "    eg. 0, 50, -6. integers are binary, octal, hexadeciamal values eg. 0b11, 0o13, 0x13 respectively. use int() function to         convert float, string to int. everty strint is not convert to int, example: 'ram' is not convert to int beacause in not         number only number in from of string are convert to int example: \"10\".\n",
    "                 \n",
    " 2) Float: floating numbers are postive and negative ral numbers with a fractional part. eg. 24.5, -5.2,\n",
    "    floats can be separated by underscore _  is a valid float. use float() funcation to convert string or int to float.\n",
    "    similary as above every string is not convert in float.\n",
    "    \n",
    " 3) String: string is immutable sequence of data type. it is the sequence of unicode characters wrapped inside single,double or triple codes.\n",
    " eg: 'Hello world', \"Hello world\", ''' Hello world'''\n",
    " "
   ]
  },
  {
   "cell_type": "raw",
   "id": "81209769",
   "metadata": {},
   "source": [
    "4. What is an expression made up of? What do all expressions do? \n",
    "Answer:\n",
    " An expression is made of combination operaters and operands that is interpreted to produce some other values.\n",
    " following are the type of expression\n",
    " 1) Constant expressions: it consists of only constant values. A Constant value is one that doesn't change eg. 5, 'y'.\n",
    " 2) Integral expressions: those which produce integer results after implementing all the automatic and explicit type conversions. eg. x,y,x/y where x and y are integer variables.\n",
    " 3) Floating expressions: Float expressions are which produce floating point results after implementing all the automatic and explicit type conversions. eg 10.75 5.2\n",
    " 4) Relational expressions: Relational Expressions yield results of type bool which takes a value true or false. When arithmetic expressions are used on either side of a relational operator, they will be evaluated first and then the results compared. Relational expressions are also known as Boolean expressions. Eg x==y, x<y, x>y, X>=y, x<=y\n",
    " 5) Logical expressions: it combine two or more relational expressions and produces bool type results. eg. x==y && x>y, x!=0, x||y.\n",
    " 6) Bitwise expressions: it used to manipulate data at bit level. They are basically used for testing or shifting bits. "
   ]
  },
  {
   "cell_type": "raw",
   "id": "53e15c5f",
   "metadata": {},
   "source": [
    "5.This assignment statements, like spam = 10. What is the difference between an\n",
    "expression and a statement?\n",
    "Answer:\n",
    "1)Expression: An Expression is a sequence or combination of values, variables, operators and function calls that always produces or returns a result value. eg: x = 5, y = 3, z = x + y\n",
    "  The evaluation of an expression does not changes state and produces at least one value as a result.\n",
    "  The evaluated result either returns to a function call or displays at the Python prompt.\n",
    "\n",
    "2) Statment: A Statement is the smallest executable unit of code that has an effect, like creating a variable or displaying a value.\n",
    "  Each and every line of code that we write in any programming language is called a statement.\n",
    "  Because, all the lines are executable by the interpreter or the compiler of that programming language.\n",
    "eg:\n",
    ">>> x = 3\n",
    "print(x)\n",
    " Some other kinds of statements in Python are – if statement, else statement, while statement, for statement, import statement, etc."
   ]
  },
  {
   "cell_type": "code",
   "execution_count": 20,
   "id": "1f5e6003",
   "metadata": {},
   "outputs": [
    {
     "data": {
      "text/plain": [
       "23"
      ]
     },
     "execution_count": 20,
     "metadata": {},
     "output_type": "execute_result"
    }
   ],
   "source": [
    "#6.After running the following code, what does the variable bacon contain?\n",
    "bacon = 22\n",
    "bacon + 1"
   ]
  },
  {
   "cell_type": "code",
   "execution_count": 21,
   "id": "d073ec2c",
   "metadata": {},
   "outputs": [
    {
     "data": {
      "text/plain": [
       "'spamspamspam'"
      ]
     },
     "execution_count": 21,
     "metadata": {},
     "output_type": "execute_result"
    }
   ],
   "source": [
    "#7. What should the values of the following two terms be?\n",
    "'spam'+'spamspam'"
   ]
  },
  {
   "cell_type": "code",
   "execution_count": 22,
   "id": "fe31f344",
   "metadata": {},
   "outputs": [
    {
     "data": {
      "text/plain": [
       "'spamspamspam'"
      ]
     },
     "execution_count": 22,
     "metadata": {},
     "output_type": "execute_result"
    }
   ],
   "source": [
    "'spam'*3"
   ]
  },
  {
   "cell_type": "raw",
   "id": "b1c25fb8",
   "metadata": {},
   "source": [
    "8.Why is eggs a valid variable name while 100 is invalid?\n",
    "Answer:\n",
    " A variable is valid when is consists of letters, numbers and underscore but is varible name is start from alphabets and underscores.\n",
    "  eggs are valid becaues if follows the Rule\n",
    "  100 is invalid variable name is a number\n",
    " "
   ]
  },
  {
   "cell_type": "raw",
   "id": "a222333a",
   "metadata": {},
   "source": [
    "9.What three functions can be used to get the integer, floating-point number, or string\n",
    "version of a value?\n",
    "Answer: The int() , float() , and str( ) functions will evaluate to the integer, floating-point number, and string versions The int() , float() , and str( ) functions will evaluate to the integer, floating-point number, and string versions of the value passed to them."
   ]
  },
  {
   "cell_type": "raw",
   "id": "f8d65f01",
   "metadata": {},
   "source": [
    "10. Why does this expression cause an error? How can you fix it?\n",
    "'I have eaten'+ 99 +'burritos.'\n",
    "ans: it make error because the string and int is not add.\n",
    "we want write 99 in quote.\n",
    "'I have eaten'+ '99' +'burritos.'"
   ]
  },
  {
   "cell_type": "code",
   "execution_count": 32,
   "id": "e51c562b",
   "metadata": {},
   "outputs": [
    {
     "data": {
      "text/plain": [
       "'I have eaten99burritos.'"
      ]
     },
     "execution_count": 32,
     "metadata": {},
     "output_type": "execute_result"
    }
   ],
   "source": [
    "'I have eaten'+ '99' +'burritos.'"
   ]
  }
 ],
 "metadata": {
  "kernelspec": {
   "display_name": "Python 3 (ipykernel)",
   "language": "python",
   "name": "python3"
  },
  "language_info": {
   "codemirror_mode": {
    "name": "ipython",
    "version": 3
   },
   "file_extension": ".py",
   "mimetype": "text/x-python",
   "name": "python",
   "nbconvert_exporter": "python",
   "pygments_lexer": "ipython3",
   "version": "3.9.12"
  }
 },
 "nbformat": 4,
 "nbformat_minor": 5
}
