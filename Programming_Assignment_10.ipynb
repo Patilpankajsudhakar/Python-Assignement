{
  "nbformat": 4,
  "nbformat_minor": 0,
  "metadata": {
    "colab": {
      "provenance": []
    },
    "kernelspec": {
      "name": "python3",
      "display_name": "Python 3"
    },
    "language_info": {
      "name": "python"
    }
  },
  "cells": [
    {
      "cell_type": "markdown",
      "source": [
        "1. Write a Python program to find sum of elements in list?\n"
      ],
      "metadata": {
        "id": "OEMPRnrRM3uj"
      }
    },
    {
      "cell_type": "code",
      "source": [
        "x=[4,8,9,7]\n",
        "sum=0\n",
        "for i in x:\n",
        "  sum=sum+i\n",
        "  i=i+i\n",
        "print(sum)"
      ],
      "metadata": {
        "colab": {
          "base_uri": "https://localhost:8080/"
        },
        "id": "O6yIOkWuNf4D",
        "outputId": "51a2cb6b-6b52-41c9-8c8c-e076c6b6a2a1"
      },
      "execution_count": 12,
      "outputs": [
        {
          "output_type": "stream",
          "name": "stdout",
          "text": [
            "28\n"
          ]
        }
      ]
    },
    {
      "cell_type": "code",
      "source": [
        "x=[4,8,9,7]\n",
        "sum=0\n",
        "for i in range(0,len(x)):\n",
        "  sum=sum+x[i]\n",
        "print(sum)"
      ],
      "metadata": {
        "colab": {
          "base_uri": "https://localhost:8080/"
        },
        "id": "Wzq8LaL-PmTa",
        "outputId": "5ddba797-a9f4-4c6f-f8ad-73104a442a8c"
      },
      "execution_count": 16,
      "outputs": [
        {
          "output_type": "stream",
          "name": "stdout",
          "text": [
            "28\n"
          ]
        }
      ]
    },
    {
      "cell_type": "markdown",
      "source": [
        "2. Write a Python program to Multiply all numbers in the list?\n"
      ],
      "metadata": {
        "id": "CNrFMfFxM3eD"
      }
    },
    {
      "cell_type": "code",
      "source": [
        "x=[4,8,9,7]\n",
        "mul=1\n",
        "for i in x:\n",
        "  mul=mul*i\n",
        "  i=i*i\n",
        "print(mul)"
      ],
      "metadata": {
        "colab": {
          "base_uri": "https://localhost:8080/"
        },
        "id": "DKCVahP4P516",
        "outputId": "7a0ce3e7-5ffe-44b1-c530-019069f837b2"
      },
      "execution_count": 17,
      "outputs": [
        {
          "output_type": "stream",
          "name": "stdout",
          "text": [
            "2016\n"
          ]
        }
      ]
    },
    {
      "cell_type": "code",
      "source": [
        "x=[4,8,9,7]\n",
        "mul=1\n",
        "for i in range(0,len(x)):\n",
        "  mul=mul*x[i]\n",
        "print(mul)"
      ],
      "metadata": {
        "colab": {
          "base_uri": "https://localhost:8080/"
        },
        "id": "31rFxYx8QLo6",
        "outputId": "022939a0-594f-4763-973f-cae7eeed0703"
      },
      "execution_count": 18,
      "outputs": [
        {
          "output_type": "stream",
          "name": "stdout",
          "text": [
            "2016\n"
          ]
        }
      ]
    },
    {
      "cell_type": "markdown",
      "source": [
        "3. Write a Python program to find smallest number in a list?\n"
      ],
      "metadata": {
        "id": "i-ijxmU8M3ZE"
      }
    },
    {
      "cell_type": "code",
      "source": [
        "l=[ int(l) for l in input(\"List:\").split(\",\")]\n",
        "print(\"The list is \",l)\n",
        "min1 = l[0]\n",
        "for i in range(len(l)):\n",
        "\tif l[i] < min1:\n",
        "\t\tmin1 = l[i] \n",
        "print(\"The smallest element in the list is \",min1)"
      ],
      "metadata": {
        "colab": {
          "base_uri": "https://localhost:8080/"
        },
        "id": "2aeu1_oQRkAr",
        "outputId": "cf54ffb7-60b7-4911-a907-edc93d277001"
      },
      "execution_count": 25,
      "outputs": [
        {
          "output_type": "stream",
          "name": "stdout",
          "text": [
            "List:5,6,9,10,25,80\n",
            "The list is  [5, 6, 9, 10, 25, 80]\n",
            "The smallest element in the list is  5\n"
          ]
        }
      ]
    },
    {
      "cell_type": "markdown",
      "source": [
        "4. Write a Python program to find largest number in a list?\n"
      ],
      "metadata": {
        "id": "dc36yNolM3TU"
      }
    },
    {
      "cell_type": "code",
      "source": [
        "l=[ int(l) for l in input(\"List:\").split(\",\")]\n",
        "print(\"The list is \",l)\n",
        "max1 = l[0]\n",
        "for i in range(len(l)):\n",
        "\tif l[i] > max1:\n",
        "\t\tmax1 = l[i] \n",
        "print(\"The largest element in the list is \",max1)"
      ],
      "metadata": {
        "colab": {
          "base_uri": "https://localhost:8080/"
        },
        "id": "-Dp3hhcPT7x7",
        "outputId": "0591f28f-a3bb-4e46-bf90-fa1807617754"
      },
      "execution_count": 26,
      "outputs": [
        {
          "output_type": "stream",
          "name": "stdout",
          "text": [
            "List:50,20,100,200,3\n",
            "The list is  [50, 20, 100, 200, 3]\n",
            "The largest element in the list is  200\n"
          ]
        }
      ]
    },
    {
      "cell_type": "markdown",
      "source": [
        "5. Write a Python program to find second largest number in a list?\n"
      ],
      "metadata": {
        "id": "Q4MMRzWpM3MT"
      }
    },
    {
      "cell_type": "code",
      "source": [
        "l=[ int(l) for l in input(\"List:\").split(\",\")]\n",
        "#l=[1,2,3,4,5]\n",
        "print(\"The list is \",l)\n",
        "max1 = l[0]\n",
        "l2=[]\n",
        "for i in range(len(l)):\n",
        "  if l[i] > max1:\n",
        "    max1 = l[i]\n",
        "print(\"The largest element in the list is \",max1)\n",
        "#for second maximum element of list\n",
        "for j in range(len(l)):\n",
        "  if l[j]<max1:\n",
        "    l2.append(l[j])\n",
        "print(l2)\n",
        "max2=l2[0]\n",
        "for k in range(len(l2)):\n",
        "  if l[k]>max2:\n",
        "    max2=l[k]\n",
        "\n",
        "print(\"The  Second largest element in a list is:\",max2)\n"
      ],
      "metadata": {
        "colab": {
          "base_uri": "https://localhost:8080/"
        },
        "id": "o3o1qNouUOiy",
        "outputId": "bf946881-e553-461a-b923-00a9520f2239"
      },
      "execution_count": 35,
      "outputs": [
        {
          "output_type": "stream",
          "name": "stdout",
          "text": [
            "List:5,10,15,20,30\n",
            "The list is  [5, 10, 15, 20, 30]\n",
            "The largest element in the list is  30\n",
            "[5, 10, 15, 20]\n",
            "The  Second largest element in a list is: 20\n"
          ]
        }
      ]
    },
    {
      "cell_type": "markdown",
      "source": [
        "6. Write a Python program to find N largest elements from a list?"
      ],
      "metadata": {
        "id": "8aRmpIN6M3G7"
      }
    },
    {
      "cell_type": "code",
      "source": [
        "def Nmaxelements(list1, N):\n",
        "\tfinal_list = []\n",
        "\n",
        "\tfor i in range(0, N):\n",
        "\t\tmax1 = 0\n",
        "\t\t\n",
        "\t\tfor j in range(len(list1)):\t\n",
        "\t\t\tif list1[j] > max1:\n",
        "\t\t\t\tmax1 = list1[j]\n",
        "\t\t\t\t\n",
        "\t\tlist1.remove(max1)\n",
        "\t\tfinal_list.append(max1)\n",
        "\t\t\n",
        "\tprint(final_list)\n",
        "\n",
        "# Driver code\n",
        "list1=[ int(i) for i in input().split(',')]\n",
        "N = int(input(\"Enter the Number of maximum element in list:\"))\n",
        "# Calling the function\n",
        "Nmaxelements(list1, N)"
      ],
      "metadata": {
        "colab": {
          "base_uri": "https://localhost:8080/"
        },
        "id": "IA3aohkxZlnD",
        "outputId": "2ec08642-d6ed-4a3d-97c8-5544b124ea52"
      },
      "execution_count": 39,
      "outputs": [
        {
          "output_type": "stream",
          "name": "stdout",
          "text": [
            "10,6,13,25,22,10\n",
            "Enter the Number of maximum element in list:4\n",
            "[25, 22, 13, 10]\n"
          ]
        }
      ]
    },
    {
      "cell_type": "markdown",
      "source": [
        "7. Write a Python program to print even numbers in a list?"
      ],
      "metadata": {
        "id": "kfQzxIfTM3Br"
      }
    },
    {
      "cell_type": "code",
      "source": [
        "x=[ int(i) for i in input().split(',')]\n",
        "for i in x:\n",
        "  if i%2==0:\n",
        "    print(\"The even number of list are following: \",i)"
      ],
      "metadata": {
        "colab": {
          "base_uri": "https://localhost:8080/"
        },
        "id": "oR1x7bS7bwBk",
        "outputId": "a18bfc5e-472d-4d9b-f406-f28cd947ec5a"
      },
      "execution_count": 40,
      "outputs": [
        {
          "output_type": "stream",
          "name": "stdout",
          "text": [
            "1,2,3,4,5,6,7,8,9,10\n",
            "The even number of list are following:  2\n",
            "The even number of list are following:  4\n",
            "The even number of list are following:  6\n",
            "The even number of list are following:  8\n",
            "The even number of list are following:  10\n"
          ]
        }
      ]
    },
    {
      "cell_type": "markdown",
      "source": [
        "8. Write a Python program to print odd numbers in a List?"
      ],
      "metadata": {
        "id": "UZ0OJCytM287"
      }
    },
    {
      "cell_type": "code",
      "source": [
        "x=[ int(i) for i in input().split(',')]\n",
        "for i in x:\n",
        "  if i%2!=0:\n",
        "    print(\"The odd number of list are following: \",i)"
      ],
      "metadata": {
        "colab": {
          "base_uri": "https://localhost:8080/"
        },
        "id": "g2EPi8nZccQT",
        "outputId": "8dbf19c0-8d50-4ba5-dce1-907362965712"
      },
      "execution_count": 41,
      "outputs": [
        {
          "output_type": "stream",
          "name": "stdout",
          "text": [
            "1,2,3,4,5,6,7,8,9\n",
            "The odd number of list are following:  1\n",
            "The odd number of list are following:  3\n",
            "The odd number of list are following:  5\n",
            "The odd number of list are following:  7\n",
            "The odd number of list are following:  9\n"
          ]
        }
      ]
    },
    {
      "cell_type": "markdown",
      "source": [
        "9. Write a Python program to Remove empty List from List?\n"
      ],
      "metadata": {
        "id": "b2TnxM6_M227"
      }
    },
    {
      "cell_type": "code",
      "source": [
        "test_list = [5, 6, [], 3, [], [], 9]\n",
        "res = [ele for ele in test_list if ele != []]\n",
        "print(\"List after empty list removal : \" + str(res))"
      ],
      "metadata": {
        "colab": {
          "base_uri": "https://localhost:8080/"
        },
        "id": "xEi2bgRvdPk7",
        "outputId": "44207cac-b45f-41cc-a77c-ca0c96829c6a"
      },
      "execution_count": 42,
      "outputs": [
        {
          "output_type": "stream",
          "name": "stdout",
          "text": [
            "List after empty list removal : [5, 6, 3, 9]\n"
          ]
        }
      ]
    },
    {
      "cell_type": "markdown",
      "source": [
        "10. Write a Python program to Cloning or Copying a list?\n"
      ],
      "metadata": {
        "id": "9R1I8Am4M2vz"
      }
    },
    {
      "cell_type": "code",
      "source": [
        "# importing copy module\n",
        "import copy\n",
        "li1 = [1, 2, 3,5, 4]\n",
        "li2 = copy.copy(li1)\n",
        "\n",
        "print(li2)\n"
      ],
      "metadata": {
        "colab": {
          "base_uri": "https://localhost:8080/"
        },
        "id": "HsiPzsM2d2FM",
        "outputId": "2fd7070c-ca38-4d83-bed7-2a1073271379"
      },
      "execution_count": 44,
      "outputs": [
        {
          "output_type": "stream",
          "name": "stdout",
          "text": [
            "[1, 2, 3, 5, 4]\n"
          ]
        }
      ]
    },
    {
      "cell_type": "markdown",
      "source": [
        "11. Write a Python program to Count occurrences of an element in a list?\n"
      ],
      "metadata": {
        "id": "7-6PHeWgNcoS"
      }
    },
    {
      "cell_type": "code",
      "source": [
        "li1 = [1, 2, 3, 5, 4, 4]\n",
        "li1.count(4)"
      ],
      "metadata": {
        "colab": {
          "base_uri": "https://localhost:8080/"
        },
        "id": "j-l35FFsM0ED",
        "outputId": "7b8ebd69-cf7a-45f3-f238-ac17ea5a2e3d"
      },
      "execution_count": 46,
      "outputs": [
        {
          "output_type": "execute_result",
          "data": {
            "text/plain": [
              "2"
            ]
          },
          "metadata": {},
          "execution_count": 46
        }
      ]
    }
  ]
}