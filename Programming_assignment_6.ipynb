{
 "cells": [
  {
   "cell_type": "raw",
   "id": "4650e2a2-ce68-47cf-b47b-77b1475f6671",
   "metadata": {},
   "source": [
    "1.\tWrite a Python Program to Display Fibonacci Sequence Using Recursion?\n"
   ]
  },
  {
   "cell_type": "code",
   "execution_count": 5,
   "id": "52be6c75-7e1b-44f2-999a-65aca5ce87bd",
   "metadata": {},
   "outputs": [
    {
     "name": "stdin",
     "output_type": "stream",
     "text": [
      "Enter the choice: 7\n"
     ]
    },
    {
     "name": "stdout",
     "output_type": "stream",
     "text": [
      "0 Fibonacci term is:  0\n",
      "1 Fibonacci term is:  1\n",
      "2 Fibonacci term is:  1\n",
      "3 Fibonacci term is:  2\n",
      "4 Fibonacci term is:  3\n",
      "5 Fibonacci term is:  5\n",
      "6 Fibonacci term is:  8\n",
      "7 Fibonacci term is:  13\n"
     ]
    }
   ],
   "source": [
    "def fibonacci(N):\n",
    "    if N == 0:\n",
    "        return 0\n",
    "\n",
    "    elif N == 1:\n",
    "        return 1\n",
    "    return fibonacci(N - 1) + fibonacci(N - 2)\n",
    "\n",
    "\n",
    "if __name__ == '__main__':\n",
    "    N = int(input(\"Enter the choice:\"))\n",
    "    for i in range(N + 1):\n",
    "        print(f\"{i} Fibonacci term is: \", fibonacci(i))\n",
    "\n"
   ]
  },
  {
   "cell_type": "raw",
   "id": "3de6c43b-ca44-4793-b723-6d3e2cb3dc64",
   "metadata": {},
   "source": [
    "2.\tWrite a Python Program to Find Factorial of Number Using Recursion?\n"
   ]
  },
  {
   "cell_type": "code",
   "execution_count": 14,
   "id": "63f834b5-cd52-447a-a0e6-d0df70f98cbd",
   "metadata": {},
   "outputs": [
    {
     "name": "stdin",
     "output_type": "stream",
     "text": [
      "Enter the number: 5\n"
     ]
    },
    {
     "name": "stdout",
     "output_type": "stream",
     "text": [
      "number :  5\n",
      "Factorial :  120\n"
     ]
    }
   ],
   "source": [
    "# Python 3 program to find\n",
    "# factorial of given number\n",
    "def factorial(n):\n",
    "    if (n==1 or n==0):\n",
    "\t\t\n",
    "\t    return 1\n",
    "    else:\n",
    "\t\t\n",
    "\t    return (n * factorial(n - 1))\n",
    "\n",
    "# Driver Code\n",
    "num = int(input(\"Enter the number:\"));\n",
    "print(\"number : \",num)\n",
    "print(\"Factorial : \",factorial(num))\n"
   ]
  },
  {
   "cell_type": "raw",
   "id": "bb09e167-6870-46cf-a002-e82efb13fddb",
   "metadata": {},
   "source": [
    "3.\tWrite a Python Program to calculate your Body Mass Index?\n"
   ]
  },
  {
   "cell_type": "code",
   "execution_count": 18,
   "id": "5e6d6ca0-f3c8-4646-aff1-70674d88a38b",
   "metadata": {},
   "outputs": [
    {
     "name": "stdin",
     "output_type": "stream",
     "text": [
      "Input your height in Feet:  5.6\n",
      "Input your weight in Kilogram:  75\n"
     ]
    },
    {
     "name": "stdout",
     "output_type": "stream",
     "text": [
      "('Your body mass index is: ', 2.39)\n"
     ]
    }
   ],
   "source": [
    "def BMI(height,weight):\n",
    "    return \"Your body mass index is: \", round(weight / (height * height), 2)\n",
    "#driver\n",
    "if __name__==\"__main__\":\n",
    "    height = float(input(\"Input your height in Feet: \"))\n",
    "    weight = float(input(\"Input your weight in Kilogram: \"))\n",
    "    print(BMI(height,weight))"
   ]
  },
  {
   "cell_type": "raw",
   "id": "3e5bc9c7-2190-4bb7-ada4-bcd645216221",
   "metadata": {},
   "source": [
    "4.\tWrite a Python Program to calculate the natural logarithm of any number?\n"
   ]
  },
  {
   "cell_type": "code",
   "execution_count": 22,
   "id": "5592cd25-38f0-4a11-875f-8d78646292e0",
   "metadata": {},
   "outputs": [
    {
     "name": "stdin",
     "output_type": "stream",
     "text": [
      "Enter the number:  10\n"
     ]
    },
    {
     "name": "stdout",
     "output_type": "stream",
     "text": [
      "The value is: 2.302585092994046\n"
     ]
    }
   ],
   "source": [
    "\n",
    "import math\n",
    "\n",
    "number = int(input(\"Enter the number: \"))\n",
    "\n",
    "ans = math.log(number)\n",
    "\n",
    "print(\"The value is:\",ans)"
   ]
  },
  {
   "cell_type": "raw",
   "id": "96ee7db5-936f-4d6e-8b86-2ab6fe9c6702",
   "metadata": {},
   "source": [
    "5.\tWrite a Python Program for cube sum of first n natural numbers?\n"
   ]
  },
  {
   "cell_type": "code",
   "execution_count": 25,
   "id": "83c35c64-8f77-4d60-9bb6-9239955371e2",
   "metadata": {},
   "outputs": [
    {
     "name": "stdin",
     "output_type": "stream",
     "text": [
      "Enter the natural number: 5\n"
     ]
    },
    {
     "name": "stdout",
     "output_type": "stream",
     "text": [
      "225\n"
     ]
    }
   ],
   "source": [
    "def sumOfSeries(n):\n",
    "\tsum = 0\n",
    "\tfor i in range(1, n+1):\n",
    "\t\tsum +=pow(i,3)\n",
    "\t\t\n",
    "\treturn sum\n",
    "\n",
    "\n",
    "# Driver Function\n",
    "n = int(input(\"Enter the natural number:\"))\n",
    "print(sumOfSeries(n))\n",
    "\n",
    "# Code Contributed by Lokesh Sharma;\n"
   ]
  }
 ],
 "metadata": {
  "kernelspec": {
   "display_name": "Python 3 (ipykernel)",
   "language": "python",
   "name": "python3"
  },
  "language_info": {
   "codemirror_mode": {
    "name": "ipython",
    "version": 3
   },
   "file_extension": ".py",
   "mimetype": "text/x-python",
   "name": "python",
   "nbconvert_exporter": "python",
   "pygments_lexer": "ipython3",
   "version": "3.10.6"
  }
 },
 "nbformat": 4,
 "nbformat_minor": 5
}
