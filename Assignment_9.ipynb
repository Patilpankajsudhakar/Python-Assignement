{
 "cells": [
  {
   "cell_type": "raw",
   "id": "0188e5ae-ebe2-4708-86d4-7ece5c8f5372",
   "metadata": {},
   "source": [
    "1. To what does a relative path refer?\n",
    "Ans:\n",
    "    A relative path refers to a location that is relative to a current directory. Relative paths make use of two special symbols, a dot (.) and a double-dot (..), which translate into the current directory and the parent directory. Double dots are used for moving up in the hierarchy.\n",
    "    \n",
    "    In the example directory structure below, assume you used Windows Explorer to navigate to D:\\Data\\Shapefiles\\Soils. After navigating to this directory, a relative path will use D:\\Data\\Shapefiles\\Soils as the current directory (until you navigate to a new directory, at which point the new directory becomes the current directory). The current directory is sometimes referred to as the root directory.\n",
    "\n"
   ]
  },
  {
   "cell_type": "raw",
   "id": "453439db-776a-42ca-b041-85890a2fd217",
   "metadata": {},
   "source": [
    "2. What does an absolute path start with your operating system?\n",
    "Ans:\n",
    "    An absolute path is defined as the specifying the location of a file or directory from the root directory(/). In other words we can say absolute path is a complete path from start of actual filesystem from / directory\n",
    "    Absolute paths ensure that Python can find the exact file on your computer.\n",
    "\n",
    "    However, as you have seen, computers can have a different path constructions, depending on the operating system, and contain usernames that unique to that specific machine.\n",
    "There are ways to overcome this issue and others associated with finding files on different machines using tools such as the os package in Python. "
   ]
  },
  {
   "cell_type": "raw",
   "id": "b779c686-32d1-4722-acff-6274a413357f",
   "metadata": {},
   "source": [
    "3. What do the functions os.getcwd() and os.chdir() do?\n",
    "Ans:\n",
    "1) os.getcwd() method tells us the location of current working directory (CWD).\n",
    "\n",
    "Syntax: os.getcwd()\n",
    "Parameter: No parameter is required.\n",
    "Return Value: This method returns a string which represents the current working directory.\n",
    "\n",
    "2)os.chdir() method in Python used to change the current working directory to specified path. It takes only a single argument as new directory path.\n",
    " \n",
    "Syntax: os.chdir(path)\n",
    "Parameters: \n",
    "path: A complete path of directory to be changed to new directory path.\n",
    "Returns: Doesn’t return any value"
   ]
  },
  {
   "cell_type": "code",
   "execution_count": 3,
   "id": "35a34cfc-e72a-4db6-b016-f12070875c9d",
   "metadata": {},
   "outputs": [
    {
     "name": "stdout",
     "output_type": "stream",
     "text": [
      "Current working directory: /home/jovyan/work\n"
     ]
    }
   ],
   "source": [
    "#os.getcwd()\n",
    "import os \n",
    "cwd = os.getcwd() \n",
    "print(\"Current working directory:\", cwd) \n",
    "\n",
    "#os.chdir()\n",
    "#import os\n",
    "#os.chdir(r\"C:\\Users\\Gfg\\Desktop\\geeks\")\n",
    "#print(\"Directory changed\")"
   ]
  },
  {
   "cell_type": "raw",
   "id": "97110a2c-a47a-498e-8811-e185b7b11b74",
   "metadata": {},
   "source": [
    "4. What are the . and .. folders?\n",
    "Ans:\n",
    "The single dot is a meta-location, meaning the folder you are currently in. The double dot is an indicator that you can move back from this location. That is, you're in a folder inside of another folder. Once you start moving around within your computer, you can use that information for reference"
   ]
  },
  {
   "cell_type": "raw",
   "id": "61cf21c4-9b68-4c9f-86bc-d959aec0bd30",
   "metadata": {},
   "source": [
    "5. In C:\\bacon\\eggs\\spam.txt, which part is the dir name, and which part is the base name?\n",
    "Ans:\n",
    "    C:\\bacon\\eggs is the dir name, while spam.txt is the base name."
   ]
  },
  {
   "cell_type": "raw",
   "id": "1953acd1-c61e-40bf-a544-9de9a94c4bac",
   "metadata": {},
   "source": [
    "6. What are the three “mode” arguments that can be passed to the open() function?\n",
    "Ans:\n",
    "    The python open() function is used to open() internally stored files. It returns the contents of the file as python objects.\n",
    "\n",
    "Syntax: open(file_name, mode) \n",
    "Parameters:\n",
    "file_name: This parameter as the name suggests, is the name of the file that we want to open.\n",
    "\n",
    "mode: This parameter is a string that is used to specify the mode in which the file is to be opened. The following strings can be used to activate a specific mode:\n",
    "\n",
    "1) “r”: This string is used to read(only) the file. It is passed as default if no parameter is supplied and returns an error if no such file exists.\n",
    "2) “w”: This string is used for writing on/over the file. If the file with the supplied name doesn’t exist, it creates one for you.\n",
    "3) “a”: This string is used to add(append) content to an existing file. If no such file exists, it creates one for you.\n",
    "4) “x”: This string is used to create a specific file.\n",
    "4) “b”: This string is used when the user wants to handle the file in binary mode. This is generally used to handle image files.\n",
    "5) “t”: This string is used to handle files in text mode. By default, the open() function uses the text mode."
   ]
  },
  {
   "cell_type": "raw",
   "id": "7d2036bd-5d35-4c58-8a68-cf95583fbe50",
   "metadata": {},
   "source": [
    "7. What happens if an existing file is opened in write mode?\n",
    "Ans\n",
    "    When mode “w” is specified, it creates an empty file for output operations. What if the file already exists? If a file with the same name already exists, its contents are discarded and the file is treated as a new empty file.\n",
    "    We need to be careful with the w mode, as it will overwrite into the file if it already exists. Due to this, all the previous data are erased. Writing a string or sequence of bytes (for binary files) is done using the write() method."
   ]
  },
  {
   "cell_type": "raw",
   "id": "1bf60e36-9d4e-479e-b125-9af2f88f4443",
   "metadata": {},
   "source": [
    "8. How do you tell the difference between read() and readlines()?\n",
    "Ans:\n",
    "    The only difference between the Read() and ReadLine() is that Console. Read is used to read only single character from the standard output device, while Console. ReadLine is used to read a line or string from the standard output device"
   ]
  },
  {
   "cell_type": "raw",
   "id": "b5620cd3-32ce-4540-97c7-c4bc005e7161",
   "metadata": {},
   "source": [
    "9. What data structure does a shelf value resemble?\n",
    "Ans:\n",
    "    A shelf value resembles a dictionary value; it has keys and values, along with keys() and values() methods that work similarly to the dictionary methods of the same names."
   ]
  }
 ],
 "metadata": {
  "kernelspec": {
   "display_name": "Python 3 (ipykernel)",
   "language": "python",
   "name": "python3"
  },
  "language_info": {
   "codemirror_mode": {
    "name": "ipython",
    "version": 3
   },
   "file_extension": ".py",
   "mimetype": "text/x-python",
   "name": "python",
   "nbconvert_exporter": "python",
   "pygments_lexer": "ipython3",
   "version": "3.10.6"
  }
 },
 "nbformat": 4,
 "nbformat_minor": 5
}
