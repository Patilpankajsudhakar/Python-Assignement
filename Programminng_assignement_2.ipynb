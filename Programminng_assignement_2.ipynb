{
 "cells": [
  {
   "cell_type": "raw",
   "id": "0044e6b8-9810-4579-98c9-9f1c1581ffd2",
   "metadata": {},
   "source": [
    "1.Write a Python program to convert kilometers to miles?\n",
    "1 km =0.62137 miles"
   ]
  },
  {
   "cell_type": "code",
   "execution_count": 2,
   "id": "a7a53fc6-36aa-4d75-b7e3-43aa19883bdf",
   "metadata": {},
   "outputs": [
    {
     "name": "stdin",
     "output_type": "stream",
     "text": [
      "Enter a km: 10\n"
     ]
    },
    {
     "name": "stdout",
     "output_type": "stream",
     "text": [
      "6.213699999999999\n"
     ]
    }
   ],
   "source": [
    "km=int(input(\"Enter a km:\"))\n",
    "miles=km*0.62137\n",
    "print(miles)"
   ]
  },
  {
   "cell_type": "raw",
   "id": "e4ca47e2-fda0-404e-8e87-301b2ba6848d",
   "metadata": {},
   "source": [
    "2.Write a Python program to convert Celsius to Fahrenheit?"
   ]
  },
  {
   "cell_type": "code",
   "execution_count": 4,
   "id": "520540c6-af19-437a-b06d-73cc41d2c86e",
   "metadata": {},
   "outputs": [
    {
     "name": "stdout",
     "output_type": "stream",
     "text": [
      "122.0\n"
     ]
    }
   ],
   "source": [
    "celsius=50\n",
    "fahrenheit=(celsius*9/5)+32\n",
    "print(fahrenheit)"
   ]
  },
  {
   "cell_type": "raw",
   "id": "10b09ca2-089c-4ad5-9ce6-e067087dbcaf",
   "metadata": {
    "tags": []
   },
   "source": [
    "3.Write a Python program to display calendar?"
   ]
  },
  {
   "cell_type": "code",
   "execution_count": 7,
   "id": "a52fbe85-916c-40e2-8638-136943c921c5",
   "metadata": {},
   "outputs": [
    {
     "name": "stdout",
     "output_type": "stream",
     "text": [
      "                                                                                           December 2022\n",
      "           Monday                     Tuesday                    Wednesday                    Thursday                     Friday                     Saturday                     Sunday\n",
      "                                                                                                  1                           2                           3                           4\n",
      "              5                           6                           7                           8                           9                          10                          11\n",
      "             12                          13                          14                          15                          16                          17                          18\n",
      "             19                          20                          21                          22                          23                          24                          25\n",
      "             26                          27                          28                          29                          30                          31\n",
      "\n"
     ]
    }
   ],
   "source": [
    "import calendar\n",
    " \n",
    "yy = 2022\n",
    "mm = 12\n",
    "dd=27\n",
    "# display the calendar\n",
    "print(calendar.month(yy,mm,dd))"
   ]
  },
  {
   "cell_type": "raw",
   "id": "a166a5ea-b013-41cb-bd42-787b253c0547",
   "metadata": {},
   "source": [
    "4.Write a Python program to solve quadratic equation?"
   ]
  },
  {
   "cell_type": "code",
   "execution_count": 8,
   "id": "ad56a97d-800b-4519-99f5-71013149813d",
   "metadata": {},
   "outputs": [
    {
     "name": "stdout",
     "output_type": "stream",
     "text": [
      "The roots are\n",
      "(-3.414213562373095+0j)\n",
      "(-0.5857864376269049+0j)\n"
     ]
    }
   ],
   "source": [
    "import cmath\n",
    "a = 1\n",
    "b = 4\n",
    "c = 2\n",
    "  \n",
    "# calculating  the discriminant\n",
    "dis = (b**2) - (4 * a*c)\n",
    "  \n",
    "# find two results\n",
    "ans1 = (-b-cmath.sqrt(dis))/(2 * a)\n",
    "ans2 = (-b + cmath.sqrt(dis))/(2 * a)\n",
    "  \n",
    "# printing the results\n",
    "print('The roots are')\n",
    "print(ans1)\n",
    "print(ans2)"
   ]
  },
  {
   "cell_type": "raw",
   "id": "fddc1699-92e6-4421-8f25-e5a5b6fb9c79",
   "metadata": {},
   "source": [
    "5.Write a Python program to swap two variables without temp variable?"
   ]
  },
  {
   "cell_type": "code",
   "execution_count": 10,
   "id": "e69f9ffa-68a3-4baf-a5a0-8e631ca1da8f",
   "metadata": {},
   "outputs": [
    {
     "name": "stdout",
     "output_type": "stream",
     "text": [
      "value of x: 30\n",
      "Value of y: 50\n"
     ]
    }
   ],
   "source": [
    "x=50\n",
    "y=30\n",
    "x,y=y,x\n",
    "print(\"value of x:\", x)\n",
    "print(\"Value of y:\", y)"
   ]
  }
 ],
 "metadata": {
  "kernelspec": {
   "display_name": "Python 3 (ipykernel)",
   "language": "python",
   "name": "python3"
  },
  "language_info": {
   "codemirror_mode": {
    "name": "ipython",
    "version": 3
   },
   "file_extension": ".py",
   "mimetype": "text/x-python",
   "name": "python",
   "nbconvert_exporter": "python",
   "pygments_lexer": "ipython3",
   "version": "3.10.6"
  }
 },
 "nbformat": 4,
 "nbformat_minor": 5
}
