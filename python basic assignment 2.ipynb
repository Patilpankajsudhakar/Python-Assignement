{
 "cells": [
  {
   "cell_type": "raw",
   "id": "2487dd85-8a4b-42d3-bdcd-e417b0d1efae",
   "metadata": {},
   "source": [
    "#1.What are the two values of the Boolean data type? How do you write them?\n",
    "Ans:\n",
    "A variable of the primitive data type boolean can have two values: true and false (Boolean literals). Boolean expressions use relational and logical operators. The result of a Boolean expression is either true or false \n",
    "we write true, false or 0,1 respectively.\n",
    "for example:\n"
   ]
  },
  {
   "cell_type": "code",
   "execution_count": 2,
   "id": "ae844e90-583f-45f0-a9a3-7c40aaa00255",
   "metadata": {},
   "outputs": [
    {
     "data": {
      "text/plain": [
       "True"
      ]
     },
     "execution_count": 2,
     "metadata": {},
     "output_type": "execute_result"
    }
   ],
   "source": [
    "x=1\n",
    "y=1\n",
    "x==y"
   ]
  },
  {
   "cell_type": "raw",
   "id": "50d2fa7b-a415-4797-947a-610b154e14e1",
   "metadata": {},
   "source": [
    "#2. What are the three different types of Boolean operators?\n",
    "Ans:\n",
    "    Boolean Operators are simple words (AND, OR, NOT or AND NOT) used as\n",
    "conjunctions to combine or exclude keywords in a search, resulting in more focused and\n",
    "productive results\n",
    "1) AND —requires both terms to be in each item returned. If one term is contained in the\n",
    "document and the other is not, the item is not included in the resulting list. (Narrows the\n",
    "search)\n",
    "     Example: A search on stock market AND trading includes results contains:\n",
    "stock market trading; trading on the stock market; and trading on the late\n",
    "afternoon stock market\n",
    "\n",
    "2) OR— either term (or both) will be in the returned document. (Broadens the search)\n",
    "    Example: A search on ecology OR pollution includes results contains:\n",
    "documents containing the world ecology (but not pollution) and other documents\n",
    "containing the word pollution (but not ecology) as well as documents with\n",
    "ecology and pollution in either order or number of uses.\n",
    "\n",
    "3) NOT or AND NOT ( dependent upon the coding of the database's search engine)—the\n",
    "first term is searched, then any records containing the term after the operators are\n",
    "subtracted from the results. (Be careful with use as the attempt to narrow the search\n",
    "may be too exclusive and eliminate good records). If you need to search the word not,\n",
    "that can usually be done by placing double quotes (<< >>) around it.\n",
    "        Example: A search on Mexico AND NOT city includes results contains: New\n",
    "Mexico; the nation of Mexico; US-Mexico trade; but does not return Mexico City\n",
    "or This city's trade relationships with Mexico"
   ]
  },
  {
   "cell_type": "code",
   "execution_count": 8,
   "id": "78381e7a-367f-49d2-9eba-ea38cf9175e1",
   "metadata": {},
   "outputs": [
    {
     "name": "stdout",
     "output_type": "stream",
     "text": [
      "True\n",
      "False\n",
      "True\n"
     ]
    }
   ],
   "source": [
    "x=1\n",
    "y=2\n",
    "print(x>y or x<y)\n",
    "print(x>y and x<y)\n",
    "print(x!=y)"
   ]
  },
  {
   "cell_type": "raw",
   "id": "1ef75e16-d647-4ac2-82dc-e63ed38d4aa3",
   "metadata": {
    "tags": []
   },
   "source": [
    "#3. Make a list of each Boolean operator's truth tables (i.e. every possible combination of Boolean values for the operator and what it evaluate ).\n",
    "Ans:\n",
    "True is 1 and False is 0\n",
    "1) Truth Table for AND.\n",
    "A B output\n",
    "0 0 0\n",
    "0 1 0\n",
    "1 0 0\n",
    "1 1 1\n",
    "2) Truth Table for OR\n",
    "A B output\n",
    "0 0 0\n",
    "0 1 1\n",
    "1 0 1\n",
    "1 1 1\n",
    "3) Truth Table for NOT\n",
    "A output\n",
    "0 1\n",
    "1 0"
   ]
  },
  {
   "cell_type": "raw",
   "id": "271b4147-6f0c-47fe-8440-5bfe549ca2ec",
   "metadata": {
    "tags": []
   },
   "source": [
    "#4 . What are the values of the following expressions?\n",
    "(5 > 4) and (3 == 5) \n",
    "not (5 > 4)\n",
    "(5 > 4) or (3 == 5)\n",
    "not ((5 > 4) or (3 == 5))\n",
    "(True and True) and (True == False)\n",
    "(not False) or (not True)\n"
   ]
  },
  {
   "cell_type": "code",
   "execution_count": 40,
   "id": "723f4a07-a1a8-4e6d-93fe-819ccf455096",
   "metadata": {},
   "outputs": [
    {
     "name": "stdout",
     "output_type": "stream",
     "text": [
      "False\n",
      "False\n",
      "True\n",
      "False\n",
      "False\n",
      "True\n"
     ]
    }
   ],
   "source": [
    "print((5 > 4) and (3 == 5))\n",
    "print(not (5 > 4))\n",
    "print((5 > 4) or (3 == 5))\n",
    "print(not ((5 > 4) or (3 == 5)))\n",
    "print((True and True) and (True == False))\n",
    "print((not False) or (not True))"
   ]
  },
  {
   "cell_type": "raw",
   "id": "60bb9bd4-db48-4ef8-afd3-214196256fa2",
   "metadata": {},
   "source": [
    "#5. What are the six comparison operators?\n",
    "Ans:\n",
    "    There are six main comparison operators: equal to, not equal to, greater than, greater than or equal to, less than, and less than or equal to.\n",
    "    ie. ==,!=,>,>=,<,<="
   ]
  },
  {
   "cell_type": "raw",
   "id": "93a7c1eb-1a04-40a6-a9f5-e270cbc1a6b4",
   "metadata": {},
   "source": [
    "6. How do you tell the difference between the equal to and assignment operators?Describe a condition and when you would use one.\n",
    "Ans:\n",
    "== is the equal to operator that compares two values and evaluates to a Boolean, while = is the assignment operator that stores a value in a variable"
   ]
  },
  {
   "cell_type": "code",
   "execution_count": 20,
   "id": "dd8e0f50-cd41-4ae0-96b1-8139bce8c6b8",
   "metadata": {},
   "outputs": [],
   "source": [
    "#eg.\n",
    "x=1;y=2 #assign the values using =\n",
    "if x==y: #compared to values using ==\n",
    "    print(\"hello world\")"
   ]
  },
  {
   "cell_type": "raw",
   "id": "995c9f23-e9ce-40b7-a020-fe51bae5a3d0",
   "metadata": {},
   "source": [
    "#7. Identify the three blocks in this code:"
   ]
  },
  {
   "cell_type": "code",
   "execution_count": 24,
   "id": "75902535-627e-47da-9b5a-b8c5f4b2f612",
   "metadata": {},
   "outputs": [
    {
     "name": "stdout",
     "output_type": "stream",
     "text": [
      "ham\n",
      "spam\n",
      "spam\n"
     ]
    }
   ],
   "source": [
    "#Ans\n",
    "spam = 0\n",
    "if spam == 10:\n",
    "    print('eggs') # block 1\n",
    "if spam > 5:\n",
    "    print('bacon')#block2\n",
    "else:\n",
    "    print('ham')#block3\n",
    "    print('spam')\n",
    "    print('spam')\n"
   ]
  },
  {
   "cell_type": "raw",
   "id": "28d2a53f-668a-4816-930b-e3b529ebfcb3",
   "metadata": {},
   "source": [
    "8. Write code that prints Hello if 1 is stored in spam, prints Howdy if 2 is stored in spam, and prints Greetings! if anything else is stored in spam."
   ]
  },
  {
   "cell_type": "code",
   "execution_count": 29,
   "id": "c2788c06-8bd0-44e6-852b-6d5c783df5cd",
   "metadata": {},
   "outputs": [
    {
     "name": "stdin",
     "output_type": "stream",
     "text": [
      "enter the value:  1\n"
     ]
    },
    {
     "name": "stdout",
     "output_type": "stream",
     "text": [
      "Hello\n"
     ]
    }
   ],
   "source": [
    "#Ans\n",
    "spam=int(input(\"enter the value: \"))\n",
    "if spam==1:\n",
    "    print(\"Hello\")\n",
    "elif spam==2:\n",
    "    print(\"Howdy\")\n",
    "else:\n",
    "    print(\"Greetings!\")"
   ]
  },
  {
   "cell_type": "raw",
   "id": "f3630bec-d2d8-4e38-a4a8-1ee5f3736921",
   "metadata": {},
   "source": [
    "9.If your programme is stuck in an endless loop, what keys you’ll press?\n",
    "Ans:\n",
    "An infinite loop is a loop that runs indefinitely and it only stops with external intervention or when a break statement is found. You can stop an infinite loop with CTRL + C."
   ]
  },
  {
   "cell_type": "raw",
   "id": "e8ecba7e-0f20-4e5e-a42b-bf5e3862cd50",
   "metadata": {},
   "source": [
    "10. How can you tell the difference between break and continue?\n",
    "Ans:\n",
    "The main difference between both the statements is that when break keyword comes, it terminates the execution of the current loop and passes the control over the next loop or main body, whereas when continue keyword is encountered, it skips the current iteration and executes the very next iteration in the loop."
   ]
  },
  {
   "cell_type": "code",
   "execution_count": 33,
   "id": "89aa7780-5a1d-41b2-aa73-d902fd764594",
   "metadata": {},
   "outputs": [
    {
     "name": "stdout",
     "output_type": "stream",
     "text": [
      "0\n",
      "1\n",
      "2\n",
      "Breaked\n",
      "0\n",
      "1\n",
      "2\n",
      "4\n"
     ]
    }
   ],
   "source": [
    "# use of break\n",
    "for i in range(5):\n",
    "    if(i==3):\n",
    "        break\n",
    "    print(i)\n",
    "    \n",
    "print('Breaked')\n",
    "#use of  continue\n",
    "for i in range(5):\n",
    "    if(i==3):\n",
    "        continue\n",
    "    print(i)\n"
   ]
  },
  {
   "cell_type": "raw",
   "id": "61e8a6f7-1347-45b5-b4a9-be84f9d26c4f",
   "metadata": {},
   "source": [
    "11. In a for loop, what is the difference between range(10), range(0, 10), and range(0, 10, 1)?\n",
    "Ans:\n",
    "the range(10) give the value 0 to 9\n",
    "the range(0,10) also give same as range(10)\n",
    "and range(0,10,1) give the value between 0 to 10 in step of one.\n",
    "all function are same."
   ]
  },
  {
   "cell_type": "code",
   "execution_count": 36,
   "id": "b48a5ad5-016f-4811-8014-515da3f72ba4",
   "metadata": {},
   "outputs": [
    {
     "name": "stdout",
     "output_type": "stream",
     "text": [
      "1) range(10)\n",
      "0\n",
      "1\n",
      "2\n",
      "3\n",
      "4\n",
      "5\n",
      "6\n",
      "7\n",
      "8\n",
      "9\n",
      "2) range(0,10)\n",
      "0\n",
      "1\n",
      "2\n",
      "3\n",
      "4\n",
      "5\n",
      "6\n",
      "7\n",
      "8\n",
      "9\n",
      "3) range(0,10,1)\n",
      "0\n",
      "1\n",
      "2\n",
      "3\n",
      "4\n",
      "5\n",
      "6\n",
      "7\n",
      "8\n",
      "9\n"
     ]
    }
   ],
   "source": [
    "print(\"1) range(10)\")\n",
    "for i in range(10):\n",
    "    print(i)\n",
    "print(\"2) range(0,10)\") \n",
    "for i in range(0,10):\n",
    "    print(i)\n",
    "print(\"3) range(0,10,1)\")\n",
    "for i in range(0,10,1):\n",
    "    print(i)"
   ]
  },
  {
   "cell_type": "raw",
   "id": "ef81bab3-5bcb-4cd2-9ca9-1d70b306b0dd",
   "metadata": {},
   "source": [
    "12. Write a short program that prints the numbers 1 to 10 using a for loop. Then write an equivalent program that prints the numbers 1 to 10 using a while loop."
   ]
  },
  {
   "cell_type": "code",
   "execution_count": 37,
   "id": "3edf84a3-933c-4ce4-b1cb-d0c13a26e3de",
   "metadata": {},
   "outputs": [
    {
     "name": "stdout",
     "output_type": "stream",
     "text": [
      "1\n",
      "2\n",
      "3\n",
      "4\n",
      "5\n",
      "6\n",
      "7\n",
      "8\n",
      "9\n",
      "10\n"
     ]
    }
   ],
   "source": [
    "for i in range(1,11):\n",
    "    print(i)"
   ]
  },
  {
   "cell_type": "code",
   "execution_count": 39,
   "id": "19d97cb1-02cc-4b32-b55f-52c8fe9c547b",
   "metadata": {},
   "outputs": [
    {
     "name": "stdout",
     "output_type": "stream",
     "text": [
      "1\n",
      "2\n",
      "3\n",
      "4\n",
      "5\n",
      "6\n",
      "7\n",
      "8\n",
      "9\n",
      "10\n"
     ]
    }
   ],
   "source": [
    "i =1\n",
    "while i <= 10:\n",
    "    print(i)\n",
    "    i+=1"
   ]
  },
  {
   "cell_type": "raw",
   "id": "c42d5ca8-dde8-4705-8d06-f5f517e147a0",
   "metadata": {},
   "source": [
    "13. If you had a function named bacon() inside a module named spam, how would you call it after importing spam?\n",
    "Ans:\n",
    "    If you had a function named bacon() inside a module named spam, how would you call it after importing spam? This function can be called with spam.bacon()"
   ]
  }
 ],
 "metadata": {
  "kernelspec": {
   "display_name": "Python 3 (ipykernel)",
   "language": "python",
   "name": "python3"
  },
  "language_info": {
   "codemirror_mode": {
    "name": "ipython",
    "version": 3
   },
   "file_extension": ".py",
   "mimetype": "text/x-python",
   "name": "python",
   "nbconvert_exporter": "python",
   "pygments_lexer": "ipython3",
   "version": "3.10.6"
  }
 },
 "nbformat": 4,
 "nbformat_minor": 5
}
