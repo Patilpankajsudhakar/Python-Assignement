{
  "nbformat": 4,
  "nbformat_minor": 0,
  "metadata": {
    "colab": {
      "provenance": []
    },
    "kernelspec": {
      "name": "python3",
      "display_name": "Python 3"
    },
    "language_info": {
      "name": "python"
    }
  },
  "cells": [
    {
      "cell_type": "markdown",
      "source": [
        "1. Write a Python Program to Add Two Matrices?"
      ],
      "metadata": {
        "id": "JSVJKH7Wpg9s"
      }
    },
    {
      "cell_type": "code",
      "source": [
        "x=[[1,2,3],[4,5,6],[7,8,9]]\n",
        "y=[[9,8,7],[6,5,4],[3,2,1]]\n",
        "\n",
        "result=[[0,0,0],[0,0,0],[0,0,0]]\n",
        "for i in range(len(x)):\n",
        "  for j in range(len(y)):\n",
        "    result[i][j]=x[i][j]+y[i][j]\n",
        "\n",
        "for r in result:\n",
        "  print(r)"
      ],
      "metadata": {
        "colab": {
          "base_uri": "https://localhost:8080/"
        },
        "id": "zBVurR5OqHH7",
        "outputId": "7cc63494-f270-4900-dac6-4f1086271f70"
      },
      "execution_count": 1,
      "outputs": [
        {
          "output_type": "stream",
          "name": "stdout",
          "text": [
            "[10, 10, 10]\n",
            "[10, 10, 10]\n",
            "[10, 10, 10]\n"
          ]
        }
      ]
    },
    {
      "cell_type": "markdown",
      "source": [
        "2. Write a Python Program to Multiply Two Matrices?"
      ],
      "metadata": {
        "id": "RgQHp6N1pmrC"
      }
    },
    {
      "cell_type": "code",
      "source": [
        "x=[[1,2,3],[4,5,6],[7,8,9]]\n",
        "y=[[9,8,7],[6,5,4],[3,2,1]]\n",
        "result=[[0,0,0],[0,0,0],[0,0,0]]\n",
        "for i in range(len(x)):\n",
        "  for j in range(len(y[0])):\n",
        "    for k in range(len(y)):\n",
        "      result[i][j]+=x[i][k]*y[k][j]\n",
        "for r in result:\n",
        "  print(r)"
      ],
      "metadata": {
        "colab": {
          "base_uri": "https://localhost:8080/"
        },
        "id": "2BuHWpZi1Y4V",
        "outputId": "d5f5ee3e-2815-44a3-8ae6-b70b5a448b54"
      },
      "execution_count": 4,
      "outputs": [
        {
          "output_type": "stream",
          "name": "stdout",
          "text": [
            "[30, 24, 18]\n",
            "[84, 69, 54]\n",
            "[138, 114, 90]\n"
          ]
        }
      ]
    },
    {
      "cell_type": "markdown",
      "source": [
        "3. Write a Python Program to Transpose a Matrix?"
      ],
      "metadata": {
        "id": "gyEhJ0vnpnEK"
      }
    },
    {
      "cell_type": "code",
      "source": [
        "M = int(input(\"Enter the Matrix row lenght:\"))\n",
        "N = int(input(\"\\n Enter the matrix colunn lenght:\"))\n",
        "\n",
        "def transpose(A, B):\n",
        "  for i in range(N):\n",
        "    for j in range(M):\n",
        "      B[i][j] = A[j][i]\n",
        "\n",
        "# driver code\n",
        "A = [ [1, 1, 1, 1],\n",
        "[2, 2, 2, 2],\n",
        "[3, 3, 3, 3],\n",
        "[4,4,4,4]]\n",
        "\n",
        "\n",
        "# To store result\n",
        "B = [[0 for x in range(M)] for y in range(N)]\n",
        "\n",
        "transpose(A, B)\n",
        "\n",
        "print(\"Result matrix is\")\n",
        "for i in range(N):\n",
        "  for j in range(M):\n",
        "    print(B[i][j], \" \", end='')\n",
        "  print()\n"
      ],
      "metadata": {
        "colab": {
          "base_uri": "https://localhost:8080/"
        },
        "id": "djNUfG7x3vlM",
        "outputId": "4e18c68f-7f20-4d74-ab15-27a4e7002db1"
      },
      "execution_count": 6,
      "outputs": [
        {
          "output_type": "stream",
          "name": "stdout",
          "text": [
            "Enter the Matrix row lenght:3\n",
            "\n",
            " Enter the matrix colunn lenght:4\n",
            "Result matrix is\n",
            "1  2  3  \n",
            "1  2  3  \n",
            "1  2  3  \n",
            "1  2  3  \n"
          ]
        }
      ]
    },
    {
      "cell_type": "markdown",
      "source": [
        "4. Write a Python Program to Sort Words in Alphabetic Order?\n"
      ],
      "metadata": {
        "id": "2Rn7fOitpnbL"
      }
    },
    {
      "cell_type": "code",
      "execution_count": 9,
      "metadata": {
        "colab": {
          "base_uri": "https://localhost:8080/"
        },
        "id": "zEWKLc-ipZIB",
        "outputId": "414c5237-3d82-41ee-9f69-7c66f0f140f0"
      },
      "outputs": [
        {
          "output_type": "stream",
          "name": "stdout",
          "text": [
            "Enter the sentence of words:hello code i am Pankaj\n",
            "am code hello i pankaj\n"
          ]
        }
      ],
      "source": [
        "words=input('Enter the sentence of words:')\n",
        "def func(s):\n",
        "  w=s.split(\" \")\n",
        "  for i in range(len(w)):\n",
        "    w[i]=w[i].lower()\n",
        "  s=sorted(w)\n",
        "  print(\" \".join(s))\n",
        "\n",
        "out=func(words)"
      ]
    },
    {
      "cell_type": "markdown",
      "source": [
        "5. Write a Python Program to Remove Punctuation From a String?\n"
      ],
      "metadata": {
        "id": "NIIMrr-5qA8a"
      }
    },
    {
      "cell_type": "code",
      "source": [
        "import string \n",
        "yourstring=input(\"Enter the Sentence:\")\n",
        "yourstring=yourstring.translate(str.maketrans('','',string.punctuation))\n",
        "print(yourstring)"
      ],
      "metadata": {
        "colab": {
          "base_uri": "https://localhost:8080/"
        },
        "id": "nGbaChjcp-dD",
        "outputId": "803deb0a-808f-426e-dd8c-9b5ead390b2a"
      },
      "execution_count": 11,
      "outputs": [
        {
          "output_type": "stream",
          "name": "stdout",
          "text": [
            "Enter the Sentence:Hello, I am pankaj, How are You?\n",
            "Hello I am pankaj How are You\n"
          ]
        }
      ]
    }
  ]
}