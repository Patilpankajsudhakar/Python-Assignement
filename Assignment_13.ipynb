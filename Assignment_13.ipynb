{
 "cells": [
  {
   "cell_type": "raw",
   "id": "85916691-a679-483a-bfe0-54bcbd9cf95d",
   "metadata": {
    "tags": []
   },
   "source": [
    "1. What advantages do Excel spreadsheets have over CSV spreadsheets?\n",
    "Ans:\n",
    "    While Excel (XLS and XLSX) file formats are better for storing more complex data, CSV files are supported by nearly all data upload interfaces. If you are planning to move your data between platforms, export and import it from one interface to another, you might be better off with the CSV file format."
   ]
  },
  {
   "cell_type": "raw",
   "id": "49a9e35c-2c26-4468-9b33-b37f3c84192b",
   "metadata": {},
   "source": [
    "2.What do you pass to csv.reader() and csv.writer() to create reader and writer objects?\n",
    "Ans:\n",
    "    To read a CSV file in Python, we can use the csv.reader() function. Suppose we have a csv file named people.csv in the current directory with the following entries.\n",
    "Ex:\n",
    "    import csv\n",
    "    with open('people.csv', 'r') as file:\n",
    "    reader = csv.reader(file)\n",
    "    for row in reader:\n",
    "        print(row)\n",
    "\n",
    "To write to a CSV file in Python, we can use the csv.writer() function.\n",
    "\n",
    "The csv.writer() function returns a writer object that converts the user's data into a delimited string. This string can later be used to write into CSV files using the writerow() function. \n",
    "EX:\n",
    "    import csv\n",
    "with open('protagonist.csv', 'w', newline='') as file:\n",
    "    writer = csv.writer(file)\n",
    "    writer.writerow([\"SN\", \"Movie\", \"Protagonist\"])\n",
    "    writer.writerow([1, \"Lord of the Rings\", \"Frodo Baggins\"])\n",
    "    writer.writerow([2, \"Harry Potter\", \"Harry Potter\"])"
   ]
  },
  {
   "cell_type": "raw",
   "id": "b89486c4-c49f-4d1d-831f-40d8d022b8a9",
   "metadata": {},
   "source": [
    "3. What modes do File objects for reader and writer objects need to be opened in?\n",
    "Ans:\n",
    "    The mode of file objects for reader and writer objects need to be opened are following\n",
    "    ‘r’\tOpen a file for reading. (default)\n",
    "    ‘w’\tOpen a file for writing. Creates a new file if it does not exist or truncates the file if it exists.\n",
    "    ‘x’\tOpen a file for exclusive creation. If the file already exists, the operation fails.\n",
    "    ‘a’\tOpen for appending at the end of the file without truncating it. Creates a new file if it does not exist.\n",
    "    ‘t’\tOpen in text mode. (default)\n",
    "    ‘b’\tOpen in binary mode.\n",
    "    ‘+’\tOpen a file for updating (reading and writing)\n"
   ]
  },
  {
   "cell_type": "raw",
   "id": "9f5dcd96-2492-46c2-8072-25ac620d7e96",
   "metadata": {},
   "source": [
    "4. What method takes a list argument and writes it to a CSV file?\n",
    "Ans:\n",
    "    A CSV file is a bounded text format which uses a comma to separate values. The most common method to write data from a list to CSV file is the writerow() method of writer and DictWriter class."
   ]
  },
  {
   "cell_type": "code",
   "execution_count": 1,
   "id": "2283c40e-dd29-40dc-a1e2-a5c544c32578",
   "metadata": {},
   "outputs": [],
   "source": [
    "# Importing library\n",
    "import csv\n",
    " \n",
    "# data to be written row-wise in csv file\n",
    "data = [['Geeks'], [4], ['geeks !']]\n",
    " \n",
    "# opening the csv file in 'w+' mode\n",
    "file = open('g4g.csv', 'w+', newline ='')\n",
    " \n",
    "# writing the data into the file\n",
    "with file:   \n",
    "    write = csv.writer(file)\n",
    "    write.writerows(data)"
   ]
  },
  {
   "cell_type": "raw",
   "id": "ee7b0760-38af-4da2-8387-5d7d837fbf33",
   "metadata": {},
   "source": [
    "5. What do the keyword arguments delimiter and line terminator do?\n",
    "Ans:\n",
    "    The line terminator is the character that comes at the end of a row. By default, the line terminator is a newline. You can change characters to different values by using the delimiter and lineterminator keyword arguments with csv."
   ]
  },
  {
   "cell_type": "raw",
   "id": "7893e118-6528-427e-a091-39b77bcaaa12",
   "metadata": {},
   "source": [
    "6. What function takes a string of JSON data and returns a Python data structure?\n",
    "Ans:\n",
    "    loads() method return Python data structure of JSON string or data."
   ]
  },
  {
   "cell_type": "raw",
   "id": "d4b7acf7-ee52-46b6-9898-03798a920ec4",
   "metadata": {},
   "source": [
    "7. What function takes a Python data structure and returns a string of JSON data?\n",
    "Ans:\n",
    "    If you have a Python object, you can convert it into a JSON string by using the json.dumps() method."
   ]
  },
  {
   "cell_type": "code",
   "execution_count": 3,
   "id": "6a605c2e-5169-4c8f-ac27-7e21943f8df1",
   "metadata": {},
   "outputs": [
    {
     "name": "stdout",
     "output_type": "stream",
     "text": [
      "{\"name\": \"John\", \"age\": 31, \"Salary\": 25000}\n"
     ]
    }
   ],
   "source": [
    "import json\n",
    " \n",
    "# {key:value mapping}\n",
    "a ={\"name\":\"John\",\n",
    "   \"age\":31,\n",
    "    \"Salary\":25000}\n",
    " \n",
    "# conversion to JSON done by dumps() function\n",
    "b = json.dumps(a)\n",
    " \n",
    "# printing the output\n",
    "print(b)"
   ]
  }
 ],
 "metadata": {
  "kernelspec": {
   "display_name": "Python 3 (ipykernel)",
   "language": "python",
   "name": "python3"
  },
  "language_info": {
   "codemirror_mode": {
    "name": "ipython",
    "version": 3
   },
   "file_extension": ".py",
   "mimetype": "text/x-python",
   "name": "python",
   "nbconvert_exporter": "python",
   "pygments_lexer": "ipython3",
   "version": "3.10.6"
  }
 },
 "nbformat": 4,
 "nbformat_minor": 5
}
