{
 "cells": [
  {
   "cell_type": "raw",
   "id": "455624e2-00a6-4088-aefc-12345f815e9d",
   "metadata": {},
   "source": [
    "1. What does RGBA stand for?\n",
    "Ans:\n",
    "    RGBA(Red-Green-Blue-Alpha)\n",
    "The RGB color model is extended in this specification to include “alpha” to allow specification of the opacity of a color."
   ]
  },
  {
   "cell_type": "raw",
   "id": "bd11ad2d-b0ac-42c4-9cba-8647397f4349",
   "metadata": {},
   "source": [
    "2. From the Pillow module, how do you get the RGBA value of any images?\n",
    "Ans:\n",
    "using following steps we can extract the any image RGBA  value using Pillow model\n",
    "1) import the Image module from the Pillow library. \n",
    "2)Open any image and get the RAGBAG values. \n",
    "3) Change the color. \n",
    "4) Store the changed image"
   ]
  },
  {
   "cell_type": "code",
   "execution_count": 3,
   "id": "3861e110-8f68-43f5-973c-5eac760be62b",
   "metadata": {},
   "outputs": [
    {
     "name": "stdout",
     "output_type": "stream",
     "text": [
      "Requirement already satisfied: Pillow in /opt/conda/lib/python3.10/site-packages (9.2.0)\n"
     ]
    }
   ],
   "source": [
    "!pip install Pillow"
   ]
  },
  {
   "cell_type": "markdown",
   "id": "02ebdfce-e75a-40dd-8b4d-c7de04ff3a64",
   "metadata": {},
   "source": [
    "# 1) import the Image module from the Pillow library. \n",
    "from PIL import Image \n",
    "# 2)Open any image and get the RGBA values. \n",
    "  \n",
    "img = Image.open('image.png')#\n",
    "rgba = img.convert(\"RGBA\")\n",
    "datas = rgba.getdata()\n",
    "# 3) Change the color. \n",
    "newData = []\n",
    "for item in datas:\n",
    "    if item[0] == 0 and item[1] == 0 and item[2] == 0:  # finding black colour by its RGB value\n",
    "        # storing a transparent value when we find a black colour\n",
    "        newData.append((255, 255, 255, 0))\n",
    "    else:\n",
    "        newData.append(item)  # other colours remain unchanged\n",
    "# 4)store the changed image\n",
    "rgba.putdata(newData)\n",
    "rgba.save(\"transparent_image.png\", \"PNG\")"
   ]
  },
  {
   "cell_type": "raw",
   "id": "cfd5de12-69bc-46d9-adf2-cdb75306ebbd",
   "metadata": {},
   "source": [
    "3. What is a box tuple, and how does it work?\n",
    "Ans:\n",
    "    \n",
    "Python Tuple is a collection of objects separated by commas. In some ways, a tuple is similar to a list in terms of indexing, nested objects, and repetition but a tuple is immutable, unlike lists which are mutable.\n",
    "\n",
    "\n",
    "The box. tuple submodule provides read-only access for the tuple userdata type. It allows, for a single tuple: selective retrieval of the field contents, retrieval of information about size, iteration over all the fields, and conversion to a Lua table. Below is a list of all box.\n",
    "The box.tuple submodule provides read-only access for the tuple userdata type"
   ]
  },
  {
   "cell_type": "raw",
   "id": "36b545ed-7aa5-416e-be2c-4196fccdbd20",
   "metadata": {},
   "source": [
    "4. Use your image and load in notebook then, How can you find out the width and height of an Image object?\n",
    "Ans:\n",
    "    In order to find the height and width of an image, there are two approaches. The first approach is by using the PIL(Pillow) library and the second approach is by using the Open-CV library.\n",
    "dd\n",
    "PIL is the Python Imaging Library is an important module which is used for image processing. It supports many formats of images such as “jpeg”, “png”, “ppm”, “tiff”, “bmp”, “gif”.  It provides many image editing capabilities. The Image module provides a class with the same name which is used to represent a PIL image. \n",
    "\n"
   ]
  },
  {
   "cell_type": "code",
   "execution_count": 8,
   "id": "e51bdf8e-915d-4337-b9d1-eb80fa5891a6",
   "metadata": {},
   "outputs": [
    {
     "name": "stdout",
     "output_type": "stream",
     "text": [
      "The height of the image is:  261\n",
      "The width of the image is:  235\n"
     ]
    }
   ],
   "source": [
    "# import required module\n",
    "from PIL import Image\n",
    "  \n",
    "# get image\n",
    "filepath = \"pankaj.png\"\n",
    "img = Image.open(filepath)\n",
    "  \n",
    "# get width and height\n",
    "width = img.width\n",
    "height = img.height\n",
    "  \n",
    "# display width and height\n",
    "print(\"The height of the image is: \", height)\n",
    "print(\"The width of the image is: \", width)"
   ]
  },
  {
   "cell_type": "raw",
   "id": "9b4ec6e7-ee0b-4c78-bdcd-4636fbe7b3c0",
   "metadata": {},
   "source": [
    "5. What method would you call to get Image object for a 100×100 image, excluding the lower-left quarter of it?\n",
    "Ans:\n",
    "    Removing a part (Region) from an image requires the Region of interest to be provided beforehand. Where providing ROI each time the process is undergone means the ROI is hardcoded. Whereas computation of ROI by itself (changing accordingly with different image and conditions) means the ROI is dynamic. Where the ROI is generally a size 4 tuple which contains the top left and bottom right coordinates of the Bbox. \n",
    "\n",
    "Removing a region means we first select the region we are willing to get rid of. Where the selection could be Region or Pixel value-based. Once the region has been identified we will turn the pixel values of that region to the ones of the background. Where background color is not constant, and hence depends upon the context for which the image is to be used. The most common backgrounds are either white or black. In this article, we will assume that the background color is black. To demonstrate this we would be removing the pixels in the region (0,0) to (100, 100) (top left side) of the aforementioned image. "
   ]
  },
  {
   "cell_type": "code",
   "execution_count": null,
   "id": "7531e8ff-c6ce-4fbf-b59c-124343cd95d1",
   "metadata": {},
   "outputs": [],
   "source": [
    "m PIL import Image\n",
    "import numpy as np      \n",
    "  \n",
    "# Opening the image and converting \n",
    "# it to RGB color mode\n",
    "# IMAGE_PATH => Path to the image\n",
    "img = Image.open(r\"IMAGE_PATH\").convert('RGB')\n",
    "  \n",
    "# Extracting the image data &\n",
    "# creating an numpy array out of it\n",
    "img_arr = np.array(img)\n",
    "  \n",
    "# Turning the pixel values of the 400x400 pixels to black \n",
    "img_arr[0 : 400, 0 : 400] = (0, 0, 0)\n",
    "  \n",
    "# Creating an image out of the previously modified array\n",
    "img = Image.fromarray(img_arr)\n",
    "  \n",
    "# Displaying the image\n",
    "img.show()"
   ]
  },
  {
   "cell_type": "raw",
   "id": "92a1d3f5-2ac2-4786-b720-c6ff2cf16c7a",
   "metadata": {},
   "source": [
    "6. After making changes to an Image object, how could you save it as an image file?\n",
    "Ans:\n",
    "     PIL is the Python Imaging Library which provides the python interpreter with image editing capabilities. The Image module provides a class with the same name which is used to represent a PIL image. The module also provides a number of factory functions, including functions to load images from files, and to create new images.\n",
    "\n",
    "Image.save() Saves this image under the given filename. If no format is specified, the format to use is determined from the filename extension, if possible.\n",
    "\n",
    "Syntax: Image.save(fp, format=None, **params)\n",
    "\n",
    "Parameters:\n",
    "fp – A filename (string), pathlib.Path object or file object.\n",
    "format – Optional format override. If omitted, the format to use is determined from the filename extension."
   ]
  },
  {
   "cell_type": "raw",
   "id": "186cc120-bcea-47dd-b85e-34a3041e15c7",
   "metadata": {},
   "source": [
    "7. What module contains Pillow’s shape-drawing code?\n",
    "Ans:The 'ImageDraw' module provides simple 2D graphics support for Image Object. Generally, we use this module to create new images, annotate or retouch existing images and to generate graphics on the fly for web use. "
   ]
  },
  {
   "cell_type": "raw",
   "id": "61c0174a-3bb0-470e-bd17-cfcc2a946f47",
   "metadata": {},
   "source": [
    "8. Image objects do not have drawing methods. What kind of object does? How do you get this kind of object?\n",
    "Ans:\n",
    "    An object in digital image processing is an identifiable portion of an image that can be interpreted as a single unit.\n",
    "    rawing objects are versatile; there are many ways you can use a Drawing object. You can display it as an image by using a DrawingImage and an Image control. You can use it with a DrawingBrush to paint an object, such as the Background of a Page. You can use it to describe the appearance of a DrawingVisual."
   ]
  }
 ],
 "metadata": {
  "kernelspec": {
   "display_name": "Python 3 (ipykernel)",
   "language": "python",
   "name": "python3"
  },
  "language_info": {
   "codemirror_mode": {
    "name": "ipython",
    "version": 3
   },
   "file_extension": ".py",
   "mimetype": "text/x-python",
   "name": "python",
   "nbconvert_exporter": "python",
   "pygments_lexer": "ipython3",
   "version": "3.10.6"
  }
 },
 "nbformat": 4,
 "nbformat_minor": 5
}
