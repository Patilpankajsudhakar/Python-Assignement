{
 "cells": [
  {
   "cell_type": "raw",
   "id": "4f536f06-03a1-49a3-bc7e-b2dff6907cd9",
   "metadata": {},
   "source": [
    "1. In what modes should the PdfFileReader() and PdfFileWriter() File objects will be opened?\n",
    "Ans:\n",
    "    PdfFileReader() needs to be opened in read-binary mode by passing 'rb' as the second argument to open(). Likewise, the File object passed to PyPDF2. PdfFileWriter() needs to be opened in write-binary mode with 'wb'."
   ]
  },
  {
   "cell_type": "raw",
   "id": "dad2a145-d3a4-4046-b3dc-88de5101ef60",
   "metadata": {},
   "source": [
    "2. From a PdfFileReader object, how do you get a Page object for page 5?\n",
    "Ans:\n",
    "    Calling getPage(4) will return a Page object for page 5 since page 0 is the first page\n"
   ]
  },
  {
   "cell_type": "raw",
   "id": "65df9ea7-69f3-42ce-a31c-926d26909dd8",
   "metadata": {},
   "source": [
    "3. What PdfFileReader variable stores the number of pages in the PDF document?\n",
    "Ans:\n",
    "    import PyPDF2 as pdf\n",
    "    pdfFileObj = open(\"cardealer.pdf\",'rb')\n",
    "    pdfReader = pdf.PdfFileReader(pdfFileObj)\n",
    "    pdfReader.numPages"
   ]
  },
  {
   "cell_type": "raw",
   "id": "a7f05c69-59de-4cf4-8b94-ac9bc33294a5",
   "metadata": {},
   "source": [
    "4. If a PdfFileReader object’s PDF is encrypted with the password swordfish, what must you do before you can obtain Page objects from it?\n",
    "Ans:\n",
    "    Before we obtain the page object, the pdf has to be decrypted by calling .decrypt('swordfish')"
   ]
  },
  {
   "cell_type": "raw",
   "id": "0d557dbb-dc8f-4137-9ff1-84b367f2b32c",
   "metadata": {},
   "source": [
    "5. What methods do you use to rotate a page?\n",
    "Ans:\n",
    "pageObj.rotateClockwise(180)\n",
    "The rotateClockwise() and rotateCounterClockwise() methods. The degrees to rotate is passed as an integer argument   "
   ]
  },
  {
   "cell_type": "raw",
   "id": "aef747a3-0446-4d66-a5d9-97e1f1a6b90a",
   "metadata": {},
   "source": [
    "6. What is the difference between a Run object and a Paragraph object?\n",
    "Ans:\n",
    " A document contains multiple paragraphs. A paragraph begins on a new line and contains multiple\n",
    "runs. The Document object contains a list of Paragraph objects for the paragraphs in the document. (A new paragraph begins whenever the user presses ENTER or RETURN while typing in a Word document.)\n",
    "\n",
    "Runs are contiguous groups of characters within a paragraph with the same style"
   ]
  },
  {
   "cell_type": "raw",
   "id": "d7b90f4d-ec94-49ea-a839-53fd5444798b",
   "metadata": {},
   "source": [
    "7. How do you obtain a list of Paragraph objects for a Document object that’s stored in a variable named doc?\n",
    "Ans;\n",
    "    #!pip install python-docx\n",
    "    import docx\n",
    "    doc = docx.Document('abc.docx')\n",
    "    doc.paragraphs\n",
    "    #By using doc.paragraphs"
   ]
  },
  {
   "cell_type": "raw",
   "id": "4a4d814f-7c43-42f2-a95e-3fea53a10907",
   "metadata": {},
   "source": [
    "8. What type of object has bold, underline, italic, strike, and outline variables?\n",
    "Ans:\n",
    "     A Run object has bold, underline,italic,strike and outline variables"
   ]
  },
  {
   "cell_type": "raw",
   "id": "0c2cda6f-de94-493a-9998-e3226db621b0",
   "metadata": {},
   "source": [
    "9. What is the difference between False, True, and None for the bold variable?\n",
    "Ans:\n",
    "    Runs can be further styled using text attributes. Each attribute can be set to one of three values:\n",
    "True (the attribute is always enabled, no matter what other styles are applied to the run),\n",
    "False (the attribute is always disabled),\n",
    "None (defaults to whatever the run’s style is set to)\n",
    "\n",
    "True always makes the Run object bolded and False makes it always not bolded, no matter what the style’s bold setting is. None will make the Run object just use the style’s bold setting\n"
   ]
  },
  {
   "cell_type": "raw",
   "id": "b5fdcb18-9485-4d5e-9706-7dcfda5a4bcb",
   "metadata": {},
   "source": [
    "10. How do you create a Document object for a new Word document?\n",
    "Ans:\n",
    "    By Calling the docx.Document() function."
   ]
  },
  {
   "cell_type": "raw",
   "id": "237d1518-d8cd-4009-b88f-527880fa8b82",
   "metadata": {},
   "source": [
    "11. How do you add a paragraph with the text 'Hello, there!' to a Document object stored in a variable named doc?\n",
    "Ans:\n",
    " import docx\n",
    "doc = docx.Document()\n",
    "\n",
    "doc.add_paragraph('Hello there!')\n",
    "doc.save('hellothere.docx')"
   ]
  },
  {
   "cell_type": "raw",
   "id": "3469aeb4-b930-4ffb-aebc-aa3be5bf8854",
   "metadata": {},
   "source": [
    "12. What integers represent the levels of headings available in Word documents?\n",
    "Ans:\n",
    "    integer from 0 to 9\n",
    "The arguments to add_heading() are a string of the heading text and an integer from 0 to 9. The integer 0 makes the heading the Title style, which is used for the top of the document. Integers 1 to 9 are for various heading levels, with 1 being the main heading and 4 the lowest subheading\n"
   ]
  }
 ],
 "metadata": {
  "kernelspec": {
   "display_name": "Python 3 (ipykernel)",
   "language": "python",
   "name": "python3"
  },
  "language_info": {
   "codemirror_mode": {
    "name": "ipython",
    "version": 3
   },
   "file_extension": ".py",
   "mimetype": "text/x-python",
   "name": "python",
   "nbconvert_exporter": "python",
   "pygments_lexer": "ipython3",
   "version": "3.10.6"
  }
 },
 "nbformat": 4,
 "nbformat_minor": 5
}
