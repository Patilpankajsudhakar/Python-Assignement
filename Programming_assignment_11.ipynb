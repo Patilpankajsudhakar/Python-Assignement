{
  "nbformat": 4,
  "nbformat_minor": 0,
  "metadata": {
    "colab": {
      "provenance": []
    },
    "kernelspec": {
      "name": "python3",
      "display_name": "Python 3"
    },
    "language_info": {
      "name": "python"
    }
  },
  "cells": [
    {
      "cell_type": "markdown",
      "source": [
        "1. Write a Python program to find words which are greater than given length k?\n"
      ],
      "metadata": {
        "id": "JiZEdzwlnDe1"
      }
    },
    {
      "cell_type": "code",
      "source": [
        "#k=int(input(\"Given length for words to compare: \"))\n",
        "#string=input(\"Enter the sentence of words\")\n",
        "k=5\n",
        "string='hello world the python is bes langagues'\n",
        "l=string.split(' ')\n",
        "stringnew=[]\n",
        "for i in l:\n",
        "   if len(i)>k:\n",
        "     stringnew.append(i)\n",
        "print(stringnew)"
      ],
      "metadata": {
        "colab": {
          "base_uri": "https://localhost:8080/"
        },
        "id": "isJNS176nOic",
        "outputId": "25b89bc0-3f8a-452b-fa54-635c649783e1"
      },
      "execution_count": 10,
      "outputs": [
        {
          "output_type": "stream",
          "name": "stdout",
          "text": [
            "['python', 'langagues']\n"
          ]
        }
      ]
    },
    {
      "cell_type": "markdown",
      "source": [
        "2. Write a Python program for removing i-th character from a string?\n"
      ],
      "metadata": {
        "id": "IuMCwp33nDb9"
      }
    },
    {
      "cell_type": "code",
      "source": [
        "string='pankaj'\n",
        "ith=2\n",
        "for i in range(len(string)):\n",
        "  if i==ith:\n",
        "    string=string.replace(string[i],'',1)\n",
        "    print(string)"
      ],
      "metadata": {
        "colab": {
          "base_uri": "https://localhost:8080/"
        },
        "id": "fkTu9ZphqCcU",
        "outputId": "50770f40-bcb6-409b-e9af-2a522fe628fd"
      },
      "execution_count": 19,
      "outputs": [
        {
          "output_type": "stream",
          "name": "stdout",
          "text": [
            "pakaj\n"
          ]
        }
      ]
    },
    {
      "cell_type": "markdown",
      "source": [
        "3. Write a Python program to split and join a string?\n"
      ],
      "metadata": {
        "id": "oXELhjU8nCk0"
      }
    },
    {
      "cell_type": "code",
      "source": [
        "string='Hello i am pankaj patil student at ineuron and enthusist data scientist'\n",
        "splitstring=string.split(' ')\n",
        "print(\"Spliting the string :\",splitstring)\n",
        "joinlist=' '.join(splitstring)\n",
        "print(\"join the list using join function: \",joinlist)"
      ],
      "metadata": {
        "colab": {
          "base_uri": "https://localhost:8080/"
        },
        "id": "pg6MCudPtAMd",
        "outputId": "874fd7a5-f6be-44d2-8971-55842df17a3d"
      },
      "execution_count": 25,
      "outputs": [
        {
          "output_type": "stream",
          "name": "stdout",
          "text": [
            "Spliting the string : ['Hello', 'i', 'am', 'pankaj', 'patil', 'student', 'at', 'ineuron', 'and', 'enthusist', 'data', 'scientist']\n",
            "join the list using join function:  Hello i am pankaj patil student at ineuron and enthusist data scientist\n"
          ]
        }
      ]
    },
    {
      "cell_type": "markdown",
      "source": [
        "4. Write a Python to check if a given string is binary string or not?\n"
      ],
      "metadata": {
        "id": "Gzw0xA0qnCiN"
      }
    },
    {
      "cell_type": "code",
      "source": [
        "string='000111'\n",
        "setofstring=set(string)\n",
        "s = {'0', '1'}\n",
        "if setofstring=={'0'} or setofstring=={'1'} or s==setofstring:\n",
        "  print(\"The Given string is Binary string\")\n",
        "else:\n",
        "  print(\"The Given string is not Binary string\")"
      ],
      "metadata": {
        "colab": {
          "base_uri": "https://localhost:8080/"
        },
        "id": "4DYPITiivUmU",
        "outputId": "9269e77e-ad17-481d-9670-ad0409d30872"
      },
      "execution_count": 35,
      "outputs": [
        {
          "output_type": "stream",
          "name": "stdout",
          "text": [
            "The Given string is Binary string\n"
          ]
        }
      ]
    },
    {
      "cell_type": "markdown",
      "source": [
        "5. Write a Python program to find uncommon words from two Strings?\n"
      ],
      "metadata": {
        "id": "3s59tl3SnCft"
      }
    },
    {
      "cell_type": "code",
      "source": [
        "A='hello world here is python code'\n",
        "B='hello world here is the python code'\n",
        "# Function to return all uncommon words\n",
        "def UncommonWords(A, B):\n",
        "\tA=A.split()\n",
        "\tB=B.split()\n",
        "\tx=[]\n",
        "\tfor i in A:\n",
        "\t\tif i not in B:\n",
        "\t\t\tx.append(i)\n",
        "\tfor i in B:\n",
        "\t\tif i not in A:\n",
        "\t\t\tx.append(i)\n",
        "\tx=list(set(x))\n",
        "\treturn x\n",
        "\n",
        "UncommonWords(A,B)"
      ],
      "metadata": {
        "colab": {
          "base_uri": "https://localhost:8080/"
        },
        "id": "R8gZxP9ZxOsV",
        "outputId": "382d4757-557a-40be-e0ad-1f2e7617dc91"
      },
      "execution_count": 44,
      "outputs": [
        {
          "output_type": "execute_result",
          "data": {
            "text/plain": [
              "['the']"
            ]
          },
          "metadata": {},
          "execution_count": 44
        }
      ]
    },
    {
      "cell_type": "markdown",
      "source": [
        "6. Write a Python to find all duplicate characters in string?\n"
      ],
      "metadata": {
        "id": "QmYZTrJ2nCc1"
      }
    },
    {
      "cell_type": "code",
      "source": [
        "def find_dup_char(input):\n",
        "\tx=[]\n",
        "\tfor i in input:\n",
        "\t\tif i not in x and input.count(i)>1:\n",
        "\t\t\tx.append(i)\n",
        "\tprint(\" \".join(x))\n",
        "\n",
        "if __name__ == \"__main__\":\n",
        "\tinput = 'hello pankaj'\n",
        "\tfind_dup_char(input)"
      ],
      "metadata": {
        "colab": {
          "base_uri": "https://localhost:8080/"
        },
        "id": "c1deALOD3VEZ",
        "outputId": "44bf1602-ef46-4438-aee1-568fb74a5c6c"
      },
      "execution_count": 46,
      "outputs": [
        {
          "output_type": "stream",
          "name": "stdout",
          "text": [
            "l a\n"
          ]
        }
      ]
    },
    {
      "cell_type": "markdown",
      "source": [
        "7. Write a Python Program to check if a string contains any special character?\n"
      ],
      "metadata": {
        "id": "D_nFJGuTnCaA"
      }
    },
    {
      "cell_type": "code",
      "source": [
        "from string import punctuation\n",
        "symbol=set(punctuation)\n",
        "#print(symbol)\n",
        "string='hello! # @ _'\n",
        "for i in symbol:\n",
        "  for j in string:\n",
        "    if i==j:\n",
        "      print(\"Given string present a Special Character {}\".format(j))"
      ],
      "metadata": {
        "colab": {
          "base_uri": "https://localhost:8080/"
        },
        "id": "fuFYslG2nM-U",
        "outputId": "34a9c81c-8f84-4981-8e80-6f6076322a0d"
      },
      "execution_count": 61,
      "outputs": [
        {
          "output_type": "stream",
          "name": "stdout",
          "text": [
            "Given string present a Special Character #\n",
            "Given string present a Special Character @\n",
            "Given string present a Special Character _\n",
            "Given string present a Special Character !\n"
          ]
        }
      ]
    }
  ]
}