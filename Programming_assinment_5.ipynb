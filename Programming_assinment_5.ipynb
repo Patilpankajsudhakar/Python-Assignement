{
 "cells": [
  {
   "cell_type": "raw",
   "id": "e9ec6530-1129-490e-bd39-64588af284e1",
   "metadata": {},
   "source": [
    "1.\tWrite a Python Program to Find LCM?\n"
   ]
  },
  {
   "cell_type": "code",
   "execution_count": 11,
   "id": "c1248f8b-9824-43b0-a1bc-a01e9269d2f7",
   "metadata": {},
   "outputs": [
    {
     "name": "stdin",
     "output_type": "stream",
     "text": [
      "Enter the first number: 12\n",
      "Enter the second number: 25\n"
     ]
    },
    {
     "name": "stdout",
     "output_type": "stream",
     "text": [
      "LCM of 12 and 25 is 300\n"
     ]
    }
   ],
   "source": [
    "def gcd(a,b):\n",
    "\tif a == 0:\n",
    "\t\treturn b\n",
    "\treturn gcd(b % a, a)\n",
    "\n",
    "# Function to return LCM of two numbers\n",
    "def lcm(a,b):\n",
    "\treturn (a // gcd(a,b))* b\n",
    "\n",
    "# Driver program to test above function\n",
    "a = int(input(\"Enter the first number:\"))\n",
    "b = int(input(\"Enter the second number:\"))\n",
    "print('LCM of', a, 'and', b, 'is', lcm(a, b))"
   ]
  },
  {
   "cell_type": "raw",
   "id": "2006c35f-1952-490d-8d48-e97ced3696cb",
   "metadata": {},
   "source": [
    "2.\tWrite a Python Program to Find HCF?\n"
   ]
  },
  {
   "cell_type": "code",
   "execution_count": 13,
   "id": "f1cc0085-5e02-4dc5-a93b-cc2851b0740d",
   "metadata": {},
   "outputs": [
    {
     "name": "stdout",
     "output_type": "stream",
     "text": [
      "Enter Two Numbers: "
     ]
    },
    {
     "name": "stdin",
     "output_type": "stream",
     "text": [
      " 20\n",
      " 12\n"
     ]
    },
    {
     "name": "stdout",
     "output_type": "stream",
     "text": [
      "\n",
      "HCF (20, 12) =  4\n"
     ]
    }
   ],
   "source": [
    "print(\"Enter Two Numbers: \", end=\"\")\n",
    "no = int(input())\n",
    "nt = int(input())\n",
    "\n",
    "if no>nt:\n",
    "    hcf = no\n",
    "else:\n",
    "    hcf = nt\n",
    "\n",
    "while True:\n",
    "    if no%hcf==0 and nt%hcf==0:\n",
    "        break\n",
    "    else:\n",
    "        hcf = hcf - 1\n",
    "\n",
    "print(\"\\nHCF (\" + str(no) + \", \" + str(nt) + \") = \", hcf)"
   ]
  },
  {
   "cell_type": "raw",
   "id": "7a8a5536-1ee9-4b3d-a32d-2634ca909ead",
   "metadata": {},
   "source": [
    "3.\tWrite a Python Program to Convert Decimal to Binary, Octal and Hexadecimal?\n",
    "A number with the prefix 0b is considered binary, 0o is considered octal and 0x as hexadecimal. "
   ]
  },
  {
   "cell_type": "code",
   "execution_count": 16,
   "id": "bb0b376c-ccd8-4ba3-8719-0d39c3943bb0",
   "metadata": {},
   "outputs": [
    {
     "name": "stdin",
     "output_type": "stream",
     "text": [
      "Enter any number 344\n"
     ]
    },
    {
     "name": "stdout",
     "output_type": "stream",
     "text": [
      "The decimal value of 344 is:\n",
      "0b101011000 in binary.\n",
      "0o530 in octal.\n",
      "0x158 in hexadecimal.\n"
     ]
    }
   ],
   "source": [
    "num =int(input(\"Enter any number\"))\n",
    "\n",
    "print(\"The decimal value of\", num, \"is:\")\n",
    "print(bin(num), \"in binary.\")\n",
    "print(oct(num), \"in octal.\")\n",
    "print(hex(num), \"in hexadecimal.\")"
   ]
  },
  {
   "cell_type": "raw",
   "id": "569ef31e-e7a6-4bc0-8966-39066b5568f1",
   "metadata": {},
   "source": [
    "4.\tWrite a Python Program To Find ASCII value of a character?\n"
   ]
  },
  {
   "cell_type": "code",
   "execution_count": 18,
   "id": "6f407a60-ad37-408f-a0a3-8375b78b3bf4",
   "metadata": {},
   "outputs": [
    {
     "name": "stdin",
     "output_type": "stream",
     "text": [
      "Enter the word A\n"
     ]
    },
    {
     "name": "stdout",
     "output_type": "stream",
     "text": [
      "The ASCII value of 'A' is 65\n"
     ]
    }
   ],
   "source": [
    "char = input(\"Enter the word\")\n",
    "print(\"The ASCII value of '\" + char + \"' is\", ord(char))"
   ]
  },
  {
   "cell_type": "raw",
   "id": "f99c1a2f-14ce-47c5-9837-a5905fd514f8",
   "metadata": {},
   "source": [
    "5.\tWrite a Python Program to Make a Simple Calculator with 4 basic mathematical operations?\n"
   ]
  },
  {
   "cell_type": "code",
   "execution_count": 22,
   "id": "62e0da35-2562-4b1c-9ece-27d0500b0aa3",
   "metadata": {},
   "outputs": [
    {
     "name": "stdin",
     "output_type": "stream",
     "text": [
      "enter then numb  2\n",
      "enter then numb  5\n",
      "1.addition\n",
      " 2.substraction \n",
      "3.multiplication\n",
      " 4.division: 3\n"
     ]
    },
    {
     "name": "stdout",
     "output_type": "stream",
     "text": [
      "Multiplication of the two number: 10\n"
     ]
    }
   ],
   "source": [
    "a=int(input(\"enter then numb \"))\n",
    "b=int(input(\"enter then numb \"))\n",
    "cal=int(input(\"1.addition\\n 2.substraction \\n3.multiplication\\n 4.division:\"))\n",
    "if cal==1:\n",
    "    add=a+b\n",
    "    print(\"Addition of the two number:\",add)\n",
    "elif cal==2:\n",
    "    sub=a-b\n",
    "    print(\"Substraction of the two number:\",sub)\n",
    "elif cal==3:\n",
    "    mult=a*b\n",
    "    print(\"Multiplication of the two number:\",mult)\n",
    "elif cal==4:\n",
    "    try:\n",
    "        div=a/b\n",
    "        print(\"Division of the two number:\",div)\n",
    "    except ZeroDivisionError as a:\n",
    "        print(\"errror is :\",a)\n",
    "else:\n",
    "    pass"
   ]
  }
 ],
 "metadata": {
  "kernelspec": {
   "display_name": "Python 3 (ipykernel)",
   "language": "python",
   "name": "python3"
  },
  "language_info": {
   "codemirror_mode": {
    "name": "ipython",
    "version": 3
   },
   "file_extension": ".py",
   "mimetype": "text/x-python",
   "name": "python",
   "nbconvert_exporter": "python",
   "pygments_lexer": "ipython3",
   "version": "3.10.6"
  }
 },
 "nbformat": 4,
 "nbformat_minor": 5
}
