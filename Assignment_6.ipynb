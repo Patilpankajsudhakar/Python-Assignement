{
 "cells": [
  {
   "cell_type": "raw",
   "id": "64765500-ae17-47cf-9f58-776b1387a284",
   "metadata": {},
   "source": [
    "1. What are escape characters, and how do you use them?\n",
    "Ans:\n",
    "To insert characters that are illegal in a string, use an escape character. An escape character is a backslash \\ followed by the character you want to insert.\n",
    "\n",
    "following are some escape parameters\n",
    "\\'\tSingle Quote\t\n",
    "\\\\\tBackslash\t\n",
    "\\n\tNew Line\t\n",
    "\\r\tCarriage Return\t\n",
    "\\t\tTab\t\n",
    "\\b\tBackspace\t\n"
   ]
  },
  {
   "cell_type": "code",
   "execution_count": 2,
   "id": "9899f47b-1d74-489c-ae1f-2ac3ad96739a",
   "metadata": {},
   "outputs": [],
   "source": [
    "#txt = \"We are the so-called \"Vikings\" from the north.\"#\n",
    "#An example of an illegal character is a double quote inside a string that is surrounded by double quotes:\n",
    "#to avoid error used escape characters\n",
    "txt = \"We are the so-called \\\"Vikings\\\" from the north.\""
   ]
  },
  {
   "cell_type": "raw",
   "id": "bed28d36-00d3-4ee2-b8bc-bfedc55d9da0",
   "metadata": {},
   "source": [
    "2. What do the escape characters n and t stand for?\n",
    "Ans: as above ans An escape sequence is a sequence of characters that, when used inside a character or string, does not represent itself but is converted into another character or series of characters that may be difficult or impossible to express directly, like newline (\\n), tab (\\t), and so on."
   ]
  },
  {
   "cell_type": "raw",
   "id": "024b806e-e500-4c66-8cc5-59b0512bf327",
   "metadata": {},
   "source": [
    "3. What is the way to include backslash characters in a string?\n",
    "Ans:\n",
    "If you want to include a backslash character itself, you need two backslashes or use the @ verbatim string: var s = \"\\\\Tasks\"; // or var s = @\"\\Tasks\"; Read the MSDN documentation/C# Specification which discusses the characters that are escaped using the backslash character and the use of the verbatim string literal.\n"
   ]
  },
  {
   "cell_type": "raw",
   "id": "73fbcfd9-0023-4d8b-bf94-b8fa76a3ccef",
   "metadata": {},
   "source": [
    "4. The string \"Howl's Moving Castle\" is a correct value. Why isn't the single quote character in the word Howl's not escaped a problem?\n",
    "Ans:\n",
    "The single quote in Howl's is fine because you've used double quotes to mark the beginning and end of the string."
   ]
  },
  {
   "cell_type": "raw",
   "id": "bccf3e43-dfe5-4eff-8c59-aad4b6e75a48",
   "metadata": {},
   "source": [
    "5. How do you write a string of newlines if you don't want to use the n character?\n",
    "Ans:\n",
    "We can change this default behavior by customizing the value of the end parameter of the print function.\n",
    "we customize the value of end and set it to \" \"\n",
    "Multiline strings allow you to use newlines in strings without the \\n escape character."
   ]
  },
  {
   "cell_type": "code",
   "execution_count": 5,
   "id": "15febb26-21f6-4a82-b932-ca47fd99b9f8",
   "metadata": {},
   "outputs": [
    {
     "name": "stdout",
     "output_type": "stream",
     "text": [
      "hello world\n"
     ]
    }
   ],
   "source": [
    "print(\"hello\",end=\" \")\n",
    "print(\"world\")"
   ]
  },
  {
   "cell_type": "code",
   "execution_count": 6,
   "id": "11492625-3ab5-4643-89a2-406f83f2424b",
   "metadata": {},
   "outputs": [
    {
     "name": "stdout",
     "output_type": "stream",
     "text": [
      "e\n",
      "Hello\n",
      "Hello\n",
      "lo, world!\n"
     ]
    }
   ],
   "source": [
    "#6. What are the values of the given expressions?\n",
    "print('Hello, world!'[1])\n",
    "print('Hello, world!'[0:5])\n",
    "print('Hello, world!'[:5])\n",
    "print('Hello, world!'[3:])\n"
   ]
  },
  {
   "cell_type": "code",
   "execution_count": 8,
   "id": "9588f4b7-1722-4156-8155-98bfbd561033",
   "metadata": {},
   "outputs": [
    {
     "name": "stdout",
     "output_type": "stream",
     "text": [
      "HELLO\n",
      "True\n",
      "hello\n"
     ]
    }
   ],
   "source": [
    "#7. What are the values of the following expressions?\n",
    "print('Hello'.upper())\n",
    "print('Hello'.upper().isupper())\n",
    "print('Hello'.upper().lower())\n"
   ]
  },
  {
   "cell_type": "code",
   "execution_count": 9,
   "id": "160df0d6-4c90-4bc0-9b1b-d454b9edfa22",
   "metadata": {},
   "outputs": [
    {
     "name": "stdout",
     "output_type": "stream",
     "text": [
      "['Remember,', 'remember,', 'the', 'fifth', 'of', 'July.']\n",
      "There-can-only-one.\n"
     ]
    }
   ],
   "source": [
    "#8. What are the values of the following expressions?\n",
    "print('Remember, remember, the fifth of July.'.split())\n",
    "print('-'.join('There can only one.'.split()))\n",
    "\n"
   ]
  },
  {
   "cell_type": "raw",
   "id": "b4b2a9e0-492c-40f0-99de-88ce2a595ed1",
   "metadata": {},
   "source": [
    "9. What are the methods for right-justifying, left-justifying, and centering a string?\n",
    "Ans\n",
    "String alignment is frequently used in many day-day applications. Python in its language offers several functions that helps to align string. Also, offers a way to add user specified padding instead of blank space.\n",
    "\n",
    "These functions are :\n",
    "\n",
    "str.ljust(s, width[, fillchar])\n",
    "str.rjust(s, width[, fillchar])\n",
    "str.center(s, width[, fillchar])\n",
    "These functions respectively left-justify, right-justify and center a string in a field of given width. They return a string that is at least width characters wide, created by padding the string s with the character fillchar (default is a space) until the given width on the right, left or both sides. The string is never truncated."
   ]
  },
  {
   "cell_type": "raw",
   "id": "8b72186f-b56b-482a-a43a-55e2a697b281",
   "metadata": {},
   "source": [
    "10. What is the best way to remove whitespace characters from the start or end?\n",
    "Ans:\n",
    "The lstrip() and rstrip() methods remove whitespace from the left and right ends of a string, respectively"
   ]
  }
 ],
 "metadata": {
  "kernelspec": {
   "display_name": "Python 3 (ipykernel)",
   "language": "python",
   "name": "python3"
  },
  "language_info": {
   "codemirror_mode": {
    "name": "ipython",
    "version": 3
   },
   "file_extension": ".py",
   "mimetype": "text/x-python",
   "name": "python",
   "nbconvert_exporter": "python",
   "pygments_lexer": "ipython3",
   "version": "3.10.6"
  }
 },
 "nbformat": 4,
 "nbformat_minor": 5
}
