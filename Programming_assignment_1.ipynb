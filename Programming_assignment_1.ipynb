{
 "cells": [
  {
   "cell_type": "raw",
   "id": "d4ee7bc2-699f-4419-80b8-f6ceb50011f8",
   "metadata": {},
   "source": [
    "1.\tWrite a Python program to print \"Hello Python\"?\n",
    "Ans: "
   ]
  },
  {
   "cell_type": "code",
   "execution_count": 2,
   "id": "36ea0864-72e8-4726-91a9-af5a6532ae50",
   "metadata": {},
   "outputs": [
    {
     "name": "stdout",
     "output_type": "stream",
     "text": [
      "Hello Python\n"
     ]
    }
   ],
   "source": [
    "print(\"Hello Python\")"
   ]
  },
  {
   "cell_type": "raw",
   "id": "414e8142-6288-4980-8fc3-be20b9896328",
   "metadata": {},
   "source": [
    "2.\tWrite a Python program to do arithmetical operations addition and division.?\n"
   ]
  },
  {
   "cell_type": "code",
   "execution_count": 4,
   "id": "bfc86d9e-0921-467f-9ae1-8e5a79ce1501",
   "metadata": {},
   "outputs": [
    {
     "name": "stdout",
     "output_type": "stream",
     "text": [
      "addition of two numbers: 15 \n",
      "division of the two non zero elements: 2.0\n"
     ]
    }
   ],
   "source": [
    "x=10\n",
    "y=5\n",
    "addition=x+y\n",
    "division=x/y\n",
    "print(\"addition of two numbers:\",addition,\"\\ndivision of the two non zero elements:\", division)"
   ]
  },
  {
   "cell_type": "raw",
   "id": "9acc8fad-8a2b-40ad-9f9f-15e78694e887",
   "metadata": {},
   "source": [
    "3.\tWrite a Python program to find the area of a triangle?\n",
    "Ans:\n",
    " the formula for area of triangle = (base*height)/2"
   ]
  },
  {
   "cell_type": "code",
   "execution_count": 5,
   "id": "89ff2dd0-f822-48a4-acd1-832a074e8f16",
   "metadata": {},
   "outputs": [
    {
     "name": "stdin",
     "output_type": "stream",
     "text": [
      "Enter the base of the triangle: 10\n",
      "Enter the height of the triangle: 20\n"
     ]
    },
    {
     "name": "stdout",
     "output_type": "stream",
     "text": [
      "Area of the triangle is:  100.0\n"
     ]
    }
   ],
   "source": [
    "base=int(input(\"Enter the base of the triangle:\"))\n",
    "height=int(input(\"Enter the height of the triangle:\"))\n",
    "Area_of_triangle=(base*height)/2\n",
    "print(\"Area of the triangle is: \", Area_of_triangle)"
   ]
  },
  {
   "cell_type": "raw",
   "id": "2a52ff37-690e-4e58-844f-15334a781d1e",
   "metadata": {},
   "source": [
    "4.\tWrite a Python program to swap two variables?\n"
   ]
  },
  {
   "cell_type": "code",
   "execution_count": 7,
   "id": "bb510161-2ee2-4986-a696-6260979b5cef",
   "metadata": {},
   "outputs": [
    {
     "name": "stdout",
     "output_type": "stream",
     "text": [
      "value of x: 30\n",
      "value of y: 20\n"
     ]
    }
   ],
   "source": [
    "x,y=20,30\n",
    "t=x\n",
    "x=y\n",
    "y=t\n",
    "print(\"value of x:\",x)\n",
    "print(\"value of y:\",y)"
   ]
  },
  {
   "cell_type": "raw",
   "id": "83f69814-0089-4e45-98a9-11b20ce1bd75",
   "metadata": {},
   "source": [
    "5.\tWrite a Python program to generate a random number?\n"
   ]
  },
  {
   "cell_type": "code",
   "execution_count": 18,
   "id": "6fb33a1e-b044-4e8b-9fbd-48a967d1cc35",
   "metadata": {},
   "outputs": [
    {
     "name": "stdout",
     "output_type": "stream",
     "text": [
      "0.45459728140391176\n"
     ]
    }
   ],
   "source": [
    "import random\n",
    "num=random.random()\n",
    "print(num)"
   ]
  }
 ],
 "metadata": {
  "kernelspec": {
   "display_name": "Python 3 (ipykernel)",
   "language": "python",
   "name": "python3"
  },
  "language_info": {
   "codemirror_mode": {
    "name": "ipython",
    "version": 3
   },
   "file_extension": ".py",
   "mimetype": "text/x-python",
   "name": "python",
   "nbconvert_exporter": "python",
   "pygments_lexer": "ipython3",
   "version": "3.10.6"
  }
 },
 "nbformat": 4,
 "nbformat_minor": 5
}
