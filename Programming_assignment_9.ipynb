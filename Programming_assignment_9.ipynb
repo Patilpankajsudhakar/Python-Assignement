{
  "nbformat": 4,
  "nbformat_minor": 0,
  "metadata": {
    "colab": {
      "provenance": []
    },
    "kernelspec": {
      "name": "python3",
      "display_name": "Python 3"
    },
    "language_info": {
      "name": "python"
    }
  },
  "cells": [
    {
      "cell_type": "markdown",
      "source": [
        "1. Write a Python program to check if the given number is a Disarium Number?\n"
      ],
      "metadata": {
        "id": "DxmqM48cDCit"
      }
    },
    {
      "cell_type": "code",
      "source": [
        "import math \n",
        "def check(n) :\n",
        "\n",
        "\t# Count digits in n.\n",
        "\tcount_digits = len(str(n))\n",
        "\tsum = 0 \n",
        "\tx = n\n",
        "\twhile (x!=0) :\n",
        "\t\tr = x % 10\n",
        "\t\tsum = (int) (sum + math.pow(r, count_digits))\n",
        "\t\tcount_digits = count_digits - 1\n",
        "\t\tx = x//10\n",
        "\t\t\n",
        "\tif sum == n :\n",
        "\t\treturn 1\n",
        "\telse :\n",
        "\t\treturn 0\n",
        "\t\n",
        "# Driver method\n",
        "n = int(input(\"Enter your number:\"))\n",
        "if (check(n) == 1) :\n",
        "\tprint (\"Disarium Number\")\n",
        "else :\n",
        "\tprint (\"Not a Disarium Number\")"
      ],
      "metadata": {
        "colab": {
          "base_uri": "https://localhost:8080/"
        },
        "id": "g4Iglr0tDPus",
        "outputId": "dd6c6703-f3d9-4963-8cc6-9a0418bdeabb"
      },
      "execution_count": 8,
      "outputs": [
        {
          "output_type": "stream",
          "name": "stdout",
          "text": [
            "Enter your number:89\n",
            "Disarium Number\n"
          ]
        }
      ]
    },
    {
      "cell_type": "markdown",
      "source": [
        "2. Write a Python program to print all disarium numbers between 1 to 100?\n"
      ],
      "metadata": {
        "id": "3BDUeQpdDCl1"
      }
    },
    {
      "cell_type": "code",
      "source": [
        "import math \n",
        "def check(n) :\n",
        "\n",
        "\t# Count digits in n.\n",
        "\tcount_digits = len(str(n))\n",
        "\tsum = 0 \n",
        "\tx = n\n",
        "\twhile (x!=0) :\n",
        "\t\tr = x % 10\n",
        "\t\tsum = (int) (sum + math.pow(r, count_digits))\n",
        "\t\tcount_digits = count_digits - 1\n",
        "\t\tx = x//10\n",
        "\t\t\n",
        "\tif sum == n :\n",
        "\t\treturn 1\n",
        "\telse :\n",
        "\t\treturn 0\n",
        "\n",
        "for n in range(1,101):\t\n",
        "  if (check(n) == 1) :\n",
        "    print (\"Disarium Number is {}\".format(n))\n",
        "  else :\n",
        "\t  print (\"Not a Disarium Number is {}\".format(n))"
      ],
      "metadata": {
        "colab": {
          "base_uri": "https://localhost:8080/"
        },
        "id": "YnUIPOg5PMgV",
        "outputId": "c195e1f7-04be-4e63-a229-80c4fe1a1b2a"
      },
      "execution_count": 23,
      "outputs": [
        {
          "output_type": "stream",
          "name": "stdout",
          "text": [
            "Disarium Number is 1\n",
            "Disarium Number is 2\n",
            "Disarium Number is 3\n",
            "Disarium Number is 4\n",
            "Disarium Number is 5\n",
            "Disarium Number is 6\n",
            "Disarium Number is 7\n",
            "Disarium Number is 8\n",
            "Disarium Number is 9\n",
            "Not a Disarium Number is 10\n",
            "Not a Disarium Number is 11\n",
            "Not a Disarium Number is 12\n",
            "Not a Disarium Number is 13\n",
            "Not a Disarium Number is 14\n",
            "Not a Disarium Number is 15\n",
            "Not a Disarium Number is 16\n",
            "Not a Disarium Number is 17\n",
            "Not a Disarium Number is 18\n",
            "Not a Disarium Number is 19\n",
            "Not a Disarium Number is 20\n",
            "Not a Disarium Number is 21\n",
            "Not a Disarium Number is 22\n",
            "Not a Disarium Number is 23\n",
            "Not a Disarium Number is 24\n",
            "Not a Disarium Number is 25\n",
            "Not a Disarium Number is 26\n",
            "Not a Disarium Number is 27\n",
            "Not a Disarium Number is 28\n",
            "Not a Disarium Number is 29\n",
            "Not a Disarium Number is 30\n",
            "Not a Disarium Number is 31\n",
            "Not a Disarium Number is 32\n",
            "Not a Disarium Number is 33\n",
            "Not a Disarium Number is 34\n",
            "Not a Disarium Number is 35\n",
            "Not a Disarium Number is 36\n",
            "Not a Disarium Number is 37\n",
            "Not a Disarium Number is 38\n",
            "Not a Disarium Number is 39\n",
            "Not a Disarium Number is 40\n",
            "Not a Disarium Number is 41\n",
            "Not a Disarium Number is 42\n",
            "Not a Disarium Number is 43\n",
            "Not a Disarium Number is 44\n",
            "Not a Disarium Number is 45\n",
            "Not a Disarium Number is 46\n",
            "Not a Disarium Number is 47\n",
            "Not a Disarium Number is 48\n",
            "Not a Disarium Number is 49\n",
            "Not a Disarium Number is 50\n",
            "Not a Disarium Number is 51\n",
            "Not a Disarium Number is 52\n",
            "Not a Disarium Number is 53\n",
            "Not a Disarium Number is 54\n",
            "Not a Disarium Number is 55\n",
            "Not a Disarium Number is 56\n",
            "Not a Disarium Number is 57\n",
            "Not a Disarium Number is 58\n",
            "Not a Disarium Number is 59\n",
            "Not a Disarium Number is 60\n",
            "Not a Disarium Number is 61\n",
            "Not a Disarium Number is 62\n",
            "Not a Disarium Number is 63\n",
            "Not a Disarium Number is 64\n",
            "Not a Disarium Number is 65\n",
            "Not a Disarium Number is 66\n",
            "Not a Disarium Number is 67\n",
            "Not a Disarium Number is 68\n",
            "Not a Disarium Number is 69\n",
            "Not a Disarium Number is 70\n",
            "Not a Disarium Number is 71\n",
            "Not a Disarium Number is 72\n",
            "Not a Disarium Number is 73\n",
            "Not a Disarium Number is 74\n",
            "Not a Disarium Number is 75\n",
            "Not a Disarium Number is 76\n",
            "Not a Disarium Number is 77\n",
            "Not a Disarium Number is 78\n",
            "Not a Disarium Number is 79\n",
            "Not a Disarium Number is 80\n",
            "Not a Disarium Number is 81\n",
            "Not a Disarium Number is 82\n",
            "Not a Disarium Number is 83\n",
            "Not a Disarium Number is 84\n",
            "Not a Disarium Number is 85\n",
            "Not a Disarium Number is 86\n",
            "Not a Disarium Number is 87\n",
            "Not a Disarium Number is 88\n",
            "Disarium Number is 89\n",
            "Not a Disarium Number is 90\n",
            "Not a Disarium Number is 91\n",
            "Not a Disarium Number is 92\n",
            "Not a Disarium Number is 93\n",
            "Not a Disarium Number is 94\n",
            "Not a Disarium Number is 95\n",
            "Not a Disarium Number is 96\n",
            "Not a Disarium Number is 97\n",
            "Not a Disarium Number is 98\n",
            "Not a Disarium Number is 99\n",
            "Not a Disarium Number is 100\n"
          ]
        }
      ]
    },
    {
      "cell_type": "markdown",
      "source": [
        "3. Write a Python program to check if the given number is Happy Number?"
      ],
      "metadata": {
        "id": "-nVBnQuLDCom"
      }
    },
    {
      "cell_type": "code",
      "source": [
        "def numSquareSum(n):\n",
        "\tsquareSum = 0;\n",
        "\twhile(n):\n",
        "\t\tsquareSum += (n % 10) * (n % 10);\n",
        "\t\tn = int(n / 10);\n",
        "\treturn squareSum;\n",
        "\n",
        "def isHappynumber(n):\n",
        "\tslow = n;\n",
        "\tfast = n;\n",
        "\twhile(True):\n",
        "\t\tslow = numSquareSum(slow);\n",
        "\t\tfast = numSquareSum(numSquareSum(fast));\n",
        "\t\tif(slow != fast):\n",
        "\t\t\tcontinue;\n",
        "\t\telse:\n",
        "\t\t\tbreak;\n",
        "\treturn (slow == 1);\n",
        "\n",
        "# Driver Code\n",
        "n = int(input(\"Enter your favourate number:\"))\n",
        "if (isHappynumber(n)):\n",
        "\tprint(n , \"is a Happy number\");\n",
        "else:\n",
        "\tprint(n , \"is not a Happy number\");"
      ],
      "metadata": {
        "colab": {
          "base_uri": "https://localhost:8080/"
        },
        "id": "RUnHZK4yXQ2O",
        "outputId": "ee23b88d-69fe-4834-fef2-be7030b44c72"
      },
      "execution_count": 22,
      "outputs": [
        {
          "output_type": "stream",
          "name": "stdout",
          "text": [
            "Enter your favourate number:13\n",
            "13 is a Happy number\n"
          ]
        }
      ]
    },
    {
      "cell_type": "markdown",
      "source": [
        "\n",
        "4. Write a Python program to print all happy numbers between 1 and 100?"
      ],
      "metadata": {
        "id": "iYGO-561DCrN"
      }
    },
    {
      "cell_type": "code",
      "source": [
        "def numSquareSum(n):\n",
        "\tsquareSum = 0;\n",
        "\twhile(n):\n",
        "\t\tsquareSum += (n % 10) * (n % 10);\n",
        "\t\tn = int(n / 10);\n",
        "\treturn squareSum;\n",
        "\n",
        "def isHappynumber(n):\n",
        "\tslow = n;\n",
        "\tfast = n;\n",
        "\twhile(True):\n",
        "\t\tslow = numSquareSum(slow);\n",
        "\t\tfast = numSquareSum(numSquareSum(fast));\n",
        "\t\tif(slow != fast):\n",
        "\t\t\tcontinue;\n",
        "\t\telse:\n",
        "\t\t\tbreak;\n",
        "\treturn (slow == 1);\n",
        "\n",
        "# Driver Code\n",
        "for n in range(1,101):\n",
        "  if (isHappynumber(n)):\n",
        "    print(n , \"is a Happy number\");\n",
        "  else:\n",
        "\t  print(n , \"is not a Happy number\");"
      ],
      "metadata": {
        "colab": {
          "base_uri": "https://localhost:8080/"
        },
        "id": "dLOpZ_StaE_e",
        "outputId": "8e0d224d-ceda-471d-d7b1-64227b98b633"
      },
      "execution_count": 24,
      "outputs": [
        {
          "output_type": "stream",
          "name": "stdout",
          "text": [
            "1 is a Happy number\n",
            "2 is not a Happy number\n",
            "3 is not a Happy number\n",
            "4 is not a Happy number\n",
            "5 is not a Happy number\n",
            "6 is not a Happy number\n",
            "7 is a Happy number\n",
            "8 is not a Happy number\n",
            "9 is not a Happy number\n",
            "10 is a Happy number\n",
            "11 is not a Happy number\n",
            "12 is not a Happy number\n",
            "13 is a Happy number\n",
            "14 is not a Happy number\n",
            "15 is not a Happy number\n",
            "16 is not a Happy number\n",
            "17 is not a Happy number\n",
            "18 is not a Happy number\n",
            "19 is a Happy number\n",
            "20 is not a Happy number\n",
            "21 is not a Happy number\n",
            "22 is not a Happy number\n",
            "23 is a Happy number\n",
            "24 is not a Happy number\n",
            "25 is not a Happy number\n",
            "26 is not a Happy number\n",
            "27 is not a Happy number\n",
            "28 is a Happy number\n",
            "29 is not a Happy number\n",
            "30 is not a Happy number\n",
            "31 is a Happy number\n",
            "32 is a Happy number\n",
            "33 is not a Happy number\n",
            "34 is not a Happy number\n",
            "35 is not a Happy number\n",
            "36 is not a Happy number\n",
            "37 is not a Happy number\n",
            "38 is not a Happy number\n",
            "39 is not a Happy number\n",
            "40 is not a Happy number\n",
            "41 is not a Happy number\n",
            "42 is not a Happy number\n",
            "43 is not a Happy number\n",
            "44 is a Happy number\n",
            "45 is not a Happy number\n",
            "46 is not a Happy number\n",
            "47 is not a Happy number\n",
            "48 is not a Happy number\n",
            "49 is a Happy number\n",
            "50 is not a Happy number\n",
            "51 is not a Happy number\n",
            "52 is not a Happy number\n",
            "53 is not a Happy number\n",
            "54 is not a Happy number\n",
            "55 is not a Happy number\n",
            "56 is not a Happy number\n",
            "57 is not a Happy number\n",
            "58 is not a Happy number\n",
            "59 is not a Happy number\n",
            "60 is not a Happy number\n",
            "61 is not a Happy number\n",
            "62 is not a Happy number\n",
            "63 is not a Happy number\n",
            "64 is not a Happy number\n",
            "65 is not a Happy number\n",
            "66 is not a Happy number\n",
            "67 is not a Happy number\n",
            "68 is a Happy number\n",
            "69 is not a Happy number\n",
            "70 is a Happy number\n",
            "71 is not a Happy number\n",
            "72 is not a Happy number\n",
            "73 is not a Happy number\n",
            "74 is not a Happy number\n",
            "75 is not a Happy number\n",
            "76 is not a Happy number\n",
            "77 is not a Happy number\n",
            "78 is not a Happy number\n",
            "79 is a Happy number\n",
            "80 is not a Happy number\n",
            "81 is not a Happy number\n",
            "82 is a Happy number\n",
            "83 is not a Happy number\n",
            "84 is not a Happy number\n",
            "85 is not a Happy number\n",
            "86 is a Happy number\n",
            "87 is not a Happy number\n",
            "88 is not a Happy number\n",
            "89 is not a Happy number\n",
            "90 is not a Happy number\n",
            "91 is a Happy number\n",
            "92 is not a Happy number\n",
            "93 is not a Happy number\n",
            "94 is a Happy number\n",
            "95 is not a Happy number\n",
            "96 is not a Happy number\n",
            "97 is a Happy number\n",
            "98 is not a Happy number\n",
            "99 is not a Happy number\n",
            "100 is a Happy number\n"
          ]
        }
      ]
    },
    {
      "cell_type": "markdown",
      "source": [
        "\n",
        "5. Write a Python program to determine whether the given number is a Harshad Number?\n"
      ],
      "metadata": {
        "id": "8PBw6TrHDCt9"
      }
    },
    {
      "cell_type": "code",
      "source": [
        "def checkHarshad( n ) :\n",
        "\tsum = 0\n",
        "\ttemp = n\n",
        "\twhile temp > 0 :\n",
        "\t\tsum = sum + temp % 10\n",
        "\t\ttemp = temp // 10\n",
        "\treturn n % sum == 0\n",
        "\n",
        "# Driver Code\n",
        "n=int(input(\"Enter the number:\"))\n",
        "if(checkHarshad(n)) : \n",
        "  print(f\"{n} given number is Harshad number\")\n",
        "else : \n",
        "  print (f\"{n} given number is not Harshad number\")"
      ],
      "metadata": {
        "colab": {
          "base_uri": "https://localhost:8080/"
        },
        "id": "hlk7hdNmabSd",
        "outputId": "49f4445d-d392-4b7f-efa7-9be64f38035a"
      },
      "execution_count": 34,
      "outputs": [
        {
          "output_type": "stream",
          "name": "stdout",
          "text": [
            "Enter the number:18\n",
            "18 given number is Harshad number\n"
          ]
        }
      ]
    },
    {
      "cell_type": "markdown",
      "source": [
        "6. Write a Python program to print all pronic numbers between 1 and 100?\n"
      ],
      "metadata": {
        "id": "zPNrK_z2DOE0"
      }
    },
    {
      "cell_type": "code",
      "source": [
        "math.sqrt(6)"
      ],
      "metadata": {
        "colab": {
          "base_uri": "https://localhost:8080/"
        },
        "id": "WcMaOuWRgiAQ",
        "outputId": "a9d5efd5-83be-4881-ba29-9f1b5deadd66"
      },
      "execution_count": 37,
      "outputs": [
        {
          "output_type": "execute_result",
          "data": {
            "text/plain": [
              "2.449489742783178"
            ]
          },
          "metadata": {},
          "execution_count": 37
        }
      ]
    },
    {
      "cell_type": "code",
      "source": [
        "(int)(math.sqrt(6))"
      ],
      "metadata": {
        "colab": {
          "base_uri": "https://localhost:8080/"
        },
        "id": "Sjybjk8QgeJn",
        "outputId": "4881b93b-d366-475a-f163-963a44ecbfd3"
      },
      "execution_count": 36,
      "outputs": [
        {
          "output_type": "execute_result",
          "data": {
            "text/plain": [
              "2"
            ]
          },
          "metadata": {},
          "execution_count": 36
        }
      ]
    },
    {
      "cell_type": "code",
      "source": [
        "0 <= (int)(math.sqrt(6))"
      ],
      "metadata": {
        "colab": {
          "base_uri": "https://localhost:8080/"
        },
        "id": "T0bAB2PfgXBW",
        "outputId": "09befbc7-7d41-4cb0-9c74-8c2b8c8f29b0"
      },
      "execution_count": 35,
      "outputs": [
        {
          "output_type": "execute_result",
          "data": {
            "text/plain": [
              "True"
            ]
          },
          "metadata": {},
          "execution_count": 35
        }
      ]
    },
    {
      "cell_type": "code",
      "source": [
        "import math\n",
        "def checkPronic (x) :\n",
        "\ti = 0\n",
        "\twhile ( i <= (int)(math.sqrt(x)) ) :\n",
        "\t\tif ( x == i * (i + 1)) :\n",
        "\t\t\treturn True\n",
        "\t\ti = i + 1\n",
        "\n",
        "\treturn False\n",
        "\n",
        "\n",
        "i = 0\n",
        "while (i <= 100 ) :\n",
        "\tif checkPronic(i) :\n",
        "\t\tprint(\"This are pronic number: {}\".format(i),end=\"\\n\")\n",
        "\ti = i + 1"
      ],
      "metadata": {
        "colab": {
          "base_uri": "https://localhost:8080/"
        },
        "id": "g8SR1TsFhGJn",
        "outputId": "1d87494d-a5d0-42c0-9fb1-22d895983778"
      },
      "execution_count": 43,
      "outputs": [
        {
          "output_type": "stream",
          "name": "stdout",
          "text": [
            "This are pronic number: 0\n",
            "This are pronic number: 2\n",
            "This are pronic number: 6\n",
            "This are pronic number: 12\n",
            "This are pronic number: 20\n",
            "This are pronic number: 30\n",
            "This are pronic number: 42\n",
            "This are pronic number: 56\n",
            "This are pronic number: 72\n",
            "This are pronic number: 90\n"
          ]
        }
      ]
    }
  ]
}