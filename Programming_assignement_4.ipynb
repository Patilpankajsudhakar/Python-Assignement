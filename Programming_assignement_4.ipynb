{
 "cells": [
  {
   "cell_type": "raw",
   "id": "8a0bc8f7-6b26-431c-a91c-cf8a4e7821b3",
   "metadata": {},
   "source": [
    "1.\tWrite a Python Program to Find the Factorial of a Number?"
   ]
  },
  {
   "cell_type": "code",
   "execution_count": 5,
   "id": "888a9766-d749-432f-85c2-754cbe011cd5",
   "metadata": {},
   "outputs": [
    {
     "name": "stdin",
     "output_type": "stream",
     "text": [
      "Enter the number 5\n"
     ]
    },
    {
     "name": "stdout",
     "output_type": "stream",
     "text": [
      "120\n"
     ]
    }
   ],
   "source": [
    "n=int(input(\"Enter the number\"))\n",
    "if n < 0:\n",
    "    print( 0)\n",
    "elif n == 0 or n == 1:\n",
    "    print(1)\n",
    "else:\n",
    "    fact = 1\n",
    "    while(n > 1):\n",
    "        fact *= n\n",
    "        n -= 1\n",
    "print(fact)"
   ]
  },
  {
   "cell_type": "raw",
   "id": "2d9804a1-193a-4db5-8e60-933e15d04505",
   "metadata": {},
   "source": [
    "2.\tWrite a Python Program to Display the multiplication Table?\n"
   ]
  },
  {
   "cell_type": "code",
   "execution_count": 20,
   "id": "006d34fd-eea2-48cb-b8b4-0f05b9b76422",
   "metadata": {},
   "outputs": [
    {
     "name": "stdin",
     "output_type": "stream",
     "text": [
      "Input a number:  5\n"
     ]
    },
    {
     "name": "stdout",
     "output_type": "stream",
     "text": [
      "5 x 1 = 5\n",
      "5 x 2 = 10\n",
      "5 x 3 = 15\n",
      "5 x 4 = 20\n",
      "5 x 5 = 25\n",
      "5 x 6 = 30\n",
      "5 x 7 = 35\n",
      "5 x 8 = 40\n",
      "5 x 9 = 45\n",
      "5 x 10 = 50\n"
     ]
    }
   ],
   "source": [
    "n = int(input(\"Input a number: \"))\n",
    "\n",
    "# use for loop to iterate 10 times\n",
    "for i in range(1,11):\n",
    "    print(n,'x',i,'=',n*i)"
   ]
  },
  {
   "cell_type": "code",
   "execution_count": 19,
   "id": "db80d053-0971-4e7d-a13f-52b2382c15c0",
   "metadata": {},
   "outputs": [
    {
     "name": "stdin",
     "output_type": "stream",
     "text": [
      "Input a number: 5\n"
     ]
    },
    {
     "name": "stdout",
     "output_type": "stream",
     "text": [
      "Multiplication table is 5*1 :5\n",
      "Multiplication table is 5*2 :10\n",
      "Multiplication table is 5*3 :15\n",
      "Multiplication table is 5*4 :20\n",
      "Multiplication table is 5*5 :25\n",
      "Multiplication table is 5*6 :30\n",
      "Multiplication table is 5*7 :35\n",
      "Multiplication table is 5*8 :40\n",
      "Multiplication table is 5*9 :45\n",
      "Multiplication table is 5*10 :50\n"
     ]
    }
   ],
   "source": [
    "n=int(input(\"Input a number:\"))\n",
    "for i in range(1,11):\n",
    "    n1=0\n",
    "    n1=n*i\n",
    "    print(f\"Multiplication table is 5*{i} :{n1}\")"
   ]
  },
  {
   "cell_type": "raw",
   "id": "56249dd7-4b01-46a7-aee1-ad1c34401a22",
   "metadata": {},
   "source": [
    "3.\tWrite a Python Program to Print the Fibonacci sequence?\n"
   ]
  },
  {
   "cell_type": "code",
   "execution_count": 31,
   "id": "d386ac1a-d79a-495d-a767-b2920e176708",
   "metadata": {},
   "outputs": [
    {
     "name": "stdin",
     "output_type": "stream",
     "text": [
      "Input the number 8\n"
     ]
    },
    {
     "name": "stdout",
     "output_type": "stream",
     "text": [
      "fibonacci sequence is: 1\n",
      "fibonacci sequence is: 2\n",
      "fibonacci sequence is: 3\n",
      "fibonacci sequence is: 5\n",
      "fibonacci sequence is: 8\n",
      "fibonacci sequence is: 13\n",
      "fibonacci sequence is: 21\n"
     ]
    }
   ],
   "source": [
    "a=0\n",
    "b=1\n",
    "n=int(input(\"Input the number\"))\n",
    "if n<0:\n",
    "    print(\"Input is wrong\")\n",
    "elif n==0:\n",
    "    print(a)\n",
    "elif n==1:\n",
    "    print(b)\n",
    "else:\n",
    "    for i in range(1,n):\n",
    "        c=a+b\n",
    "        a=b\n",
    "        b=c\n",
    "        print(\"fibonacci sequence is:\",c)"
   ]
  },
  {
   "cell_type": "raw",
   "id": "7946fde6-c818-4977-bd09-f8035a603540",
   "metadata": {},
   "source": [
    "4.\tWrite a Python Program to Check Armstrong Number?\n"
   ]
  },
  {
   "cell_type": "code",
   "execution_count": 57,
   "id": "35e853a8-f6e3-4ccf-abd8-b2dd74c03abc",
   "metadata": {},
   "outputs": [
    {
     "name": "stdin",
     "output_type": "stream",
     "text": [
      " 153\n"
     ]
    },
    {
     "name": "stdout",
     "output_type": "stream",
     "text": [
      "The given number 153 is armstrong number\n"
     ]
    }
   ],
   "source": [
    "n =int(input())\n",
    "s = n  # assigning input value to the s variable\n",
    "b = len(str(n))\n",
    "sum1 = 0\n",
    "while n != 0:\n",
    "    r = n % 10\n",
    "    sum1 = sum1+(r**b)\n",
    "    n = n//10\n",
    "if s == sum1:\n",
    "    print(\"The given number\", s, \"is armstrong number\")\n",
    "else:\n",
    "    print(\"The given number\", s, \"is not armstrong number\")\n",
    " "
   ]
  },
  {
   "cell_type": "raw",
   "id": "9a287a2f-9a17-4cf3-830f-086bdbe63dc0",
   "metadata": {},
   "source": [
    "5.\tWrite a Python Program to Find Armstrong Number in an Interval?\n"
   ]
  },
  {
   "cell_type": "code",
   "execution_count": 60,
   "id": "e5120e6e-42a6-4d99-a1b2-e16d21c7a47a",
   "metadata": {},
   "outputs": [
    {
     "name": "stdout",
     "output_type": "stream",
     "text": [
      "The armstrong numbers are: 125\n",
      "The armstrong numbers are: 153\n",
      "The armstrong numbers are: 216\n",
      "The armstrong numbers are: 370\n",
      "The armstrong numbers are: 371\n",
      "The armstrong numbers are: 407\n",
      "The armstrong numbers are: 729\n"
     ]
    }
   ],
   "source": [
    "for num in range(100,1000):\n",
    "    temp=num\n",
    "    sum=0\n",
    "    while temp>0:\n",
    "        digit=temp%10\n",
    "        sum=sum+digit**3\n",
    "        temp=temp//10\n",
    "        if sum==num:\n",
    "            print (\"The armstrong numbers are: {}\".format(num))"
   ]
  },
  {
   "cell_type": "raw",
   "id": "614b8014-5048-4900-be64-660c03026191",
   "metadata": {},
   "source": [
    "6.\tWrite a Python Program to Find the Sum of Natural Numbers?\n"
   ]
  },
  {
   "cell_type": "code",
   "execution_count": 71,
   "id": "7ca572f2-b6be-4c9b-9efe-96c54c0c6669",
   "metadata": {},
   "outputs": [
    {
     "name": "stdin",
     "output_type": "stream",
     "text": [
      "enter the number: 6\n"
     ]
    },
    {
     "name": "stdout",
     "output_type": "stream",
     "text": [
      "21\n"
     ]
    }
   ],
   "source": [
    "n=int(input(\"enter the number:\"))\n",
    "sum=0\n",
    "if n<0:\n",
    "    print(\"we required the postive number:\")\n",
    "elif n==0:\n",
    "    print(0)\n",
    "else:\n",
    "    for i in range(1,n+1):\n",
    "        sum=sum+i\n",
    "    print(sum)\n",
    "    "
   ]
  }
 ],
 "metadata": {
  "kernelspec": {
   "display_name": "Python 3 (ipykernel)",
   "language": "python",
   "name": "python3"
  },
  "language_info": {
   "codemirror_mode": {
    "name": "ipython",
    "version": 3
   },
   "file_extension": ".py",
   "mimetype": "text/x-python",
   "name": "python",
   "nbconvert_exporter": "python",
   "pygments_lexer": "ipython3",
   "version": "3.10.6"
  }
 },
 "nbformat": 4,
 "nbformat_minor": 5
}
