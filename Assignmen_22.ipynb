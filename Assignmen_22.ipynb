{
 "cells": [
  {
   "cell_type": "raw",
   "id": "5b364e6f-7010-439a-a2fd-61dda18ebbd3",
   "metadata": {},
   "source": [
    "1. What is the result of the code, and explain?\n",
    "ans:\n",
    "The line, func() Call the function we defined which prints the value of X."
   ]
  },
  {
   "cell_type": "code",
   "execution_count": 1,
   "id": "0b0e3866-82a1-47a6-8cc5-85345322883f",
   "metadata": {},
   "outputs": [
    {
     "name": "stdout",
     "output_type": "stream",
     "text": [
      "iNeuron\n"
     ]
    }
   ],
   "source": [
    "X = 'iNeuron'\n",
    "def func():\n",
    "    print(X)\n",
    "\n",
    "func()\n"
   ]
  },
  {
   "cell_type": "raw",
   "id": "335f8e22-94f2-4b09-a07e-a018c0787ebc",
   "metadata": {},
   "source": [
    "2. What is the result of the code, and explain?\n",
    "ans:\n",
    "the line, func() Call the function we defined, with \"NI\" as the value of X inside the funtion, but doesn't prints it, as there is no print statement inside the function.\n",
    "\n",
    "The line, print(X), prints the value of X, which is \"iNeuron\", which is outside func()"
   ]
  },
  {
   "cell_type": "code",
   "execution_count": 2,
   "id": "b510d040-6d19-4a92-98e5-ff50de7ff08b",
   "metadata": {},
   "outputs": [
    {
     "name": "stdout",
     "output_type": "stream",
     "text": [
      "iNeuron\n"
     ]
    }
   ],
   "source": [
    "X = 'iNeuron'\n",
    "def func():\n",
    "    X = 'NI!'\n",
    "func()\n",
    "print(X)"
   ]
  },
  {
   "cell_type": "raw",
   "id": "3ed219d8-5594-41a2-8ac2-adeadfa22060",
   "metadata": {},
   "source": [
    "3. What does this code print, and why?\n",
    "Ans:\n",
    "    The line, func() Call the function we defined which prints the value of X, which is \"NI\" inside the funtion.\n",
    "\n",
    "The line, print(X), prints the value of X, which is \"iNeuron\", which is outside func()\n"
   ]
  },
  {
   "cell_type": "code",
   "execution_count": 3,
   "id": "19f66b95-f25c-414e-abfe-49796315480c",
   "metadata": {},
   "outputs": [
    {
     "name": "stdout",
     "output_type": "stream",
     "text": [
      "NI\n",
      "iNeuron\n"
     ]
    }
   ],
   "source": [
    "X = 'iNeuron'\n",
    "def func():\n",
    "    X = 'NI'\n",
    "    print(X)\n",
    "func()\n",
    "print(X)"
   ]
  },
  {
   "cell_type": "raw",
   "id": "0aa1f093-5c0a-43a9-a943-06d9a4c29f69",
   "metadata": {},
   "source": [
    "4. What output does this code produce? Why?\n",
    "ans:\n",
    "    The line, func() Call the function we defined, with \"NI\" as the value of X inside the funtion, but doesn't prints it, as there is no print statement inside the function, and we have used global keyword, which means, global keyword allows us to modify the variable, that is \"X\", outside of the current function.\n",
    "\n",
    "The line, print(X), prints the value of X, which is now \"NI\", as we used global keyword inside the function"
   ]
  },
  {
   "cell_type": "code",
   "execution_count": 7,
   "id": "dc865ef5-89a7-4275-ad35-ae8ae86cf8bb",
   "metadata": {},
   "outputs": [
    {
     "name": "stdout",
     "output_type": "stream",
     "text": [
      "NI\n"
     ]
    }
   ],
   "source": [
    "X = 'iNeuron'\n",
    "def func():\n",
    "    global X\n",
    "    X = 'NI'\n",
    "func()\n",
    "\n",
    "print(X)"
   ]
  },
  {
   "cell_type": "raw",
   "id": "9f590d30-5df7-4dca-b622-937befe97ad2",
   "metadata": {},
   "source": [
    "5. What about this code—what’s the output, and why?\n",
    "ans:"
   ]
  },
  {
   "cell_type": "code",
   "execution_count": 11,
   "id": "d39f79a5-9ca9-483c-a045-c98a7a196069",
   "metadata": {},
   "outputs": [],
   "source": [
    "X = 'iNeuron'\n",
    "def func():\n",
    "    X = 'NI'\n",
    "def nested():\n",
    "    print(X)\n"
   ]
  },
  {
   "cell_type": "code",
   "execution_count": 12,
   "id": "f99bfd78-92eb-4410-8bad-cca5717384a9",
   "metadata": {},
   "outputs": [
    {
     "name": "stdout",
     "output_type": "stream",
     "text": [
      "iNeuron\n"
     ]
    }
   ],
   "source": [
    "nested()"
   ]
  },
  {
   "cell_type": "code",
   "execution_count": 14,
   "id": "c774271c-6098-4118-9e13-7b525e8d7dfd",
   "metadata": {},
   "outputs": [],
   "source": [
    "func()"
   ]
  },
  {
   "cell_type": "code",
   "execution_count": null,
   "id": "287019d8-dd9e-43ce-a159-6b58a82dc95f",
   "metadata": {},
   "outputs": [
    {
     "name": "stdout",
     "output_type": "stream",
     "text": [
      "iNeuron\n"
     ]
    }
   ],
   "source": [
    "print(X)"
   ]
  },
  {
   "cell_type": "raw",
   "id": "61f2f126-183f-45c4-8346-40d298677916",
   "metadata": {},
   "source": [
    "6. How about this code: what is its output in Python 3, and explain?"
   ]
  },
  {
   "cell_type": "code",
   "execution_count": 19,
   "id": "6121a3f7-9721-446e-81c8-93fd8c031d00",
   "metadata": {},
   "outputs": [],
   "source": [
    "def func():\n",
    "    X = 'NI'\n",
    "    def nested():\n",
    "        nonlocal X\n",
    "        X = 'Spam'\n"
   ]
  },
  {
   "cell_type": "code",
   "execution_count": 20,
   "id": "1435e54a-2a50-454d-a76e-aa45105083e3",
   "metadata": {},
   "outputs": [
    {
     "name": "stdout",
     "output_type": "stream",
     "text": [
      "iNeuron\n"
     ]
    }
   ],
   "source": [
    "nested()"
   ]
  },
  {
   "cell_type": "code",
   "execution_count": 22,
   "id": "67202e33-0373-40fd-9952-16baba71ad88",
   "metadata": {},
   "outputs": [
    {
     "name": "stdout",
     "output_type": "stream",
     "text": [
      "iNeuron\n"
     ]
    }
   ],
   "source": [
    "print(X)"
   ]
  },
  {
   "cell_type": "code",
   "execution_count": 23,
   "id": "55ab2a3b-2ed9-4bd0-b8e0-2d0f0c789053",
   "metadata": {},
   "outputs": [],
   "source": [
    "func()"
   ]
  }
 ],
 "metadata": {
  "kernelspec": {
   "display_name": "Python 3 (ipykernel)",
   "language": "python",
   "name": "python3"
  },
  "language_info": {
   "codemirror_mode": {
    "name": "ipython",
    "version": 3
   },
   "file_extension": ".py",
   "mimetype": "text/x-python",
   "name": "python",
   "nbconvert_exporter": "python",
   "pygments_lexer": "ipython3",
   "version": "3.10.6"
  }
 },
 "nbformat": 4,
 "nbformat_minor": 5
}
