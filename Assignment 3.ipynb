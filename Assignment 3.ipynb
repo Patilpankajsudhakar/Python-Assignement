{
 "cells": [
  {
   "cell_type": "raw",
   "id": "589f4e00-e244-460d-b2ca-9dedc020e67e",
   "metadata": {},
   "source": [
    "1. Why are functions advantageous to have in your programs?\n",
    "Ans:\n",
    "    Functions reduce the need for duplicate code. This makes programs shorter, easier to read, and easier to update.\n",
    "Function are reduce the time.\n"
   ]
  },
  {
   "cell_type": "raw",
   "id": "05e91d71-e2d6-4a6a-8921-d7112f91cfea",
   "metadata": {},
   "source": [
    "2. When does the code in a function run: when it's specified or when it's called?\n",
    "Ans:\n",
    "\n",
    "    The code in a function executes when the function is called, not when the function is defined.\n",
    " whenever a function is called a new stack frame is created with all the function's data and this stack frame is pushed in the program stack, and the stack pointer that always points the top of the program stack points the stack frame pushed as it is on the top of the program stack."
   ]
  },
  {
   "cell_type": "raw",
   "id": "e5839b6f-4fd1-4177-827e-1e913b82bffa",
   "metadata": {},
   "source": [
    "3. What statement creates a function?\n",
    "Ans: \n",
    "The “def” call creates the function object and assigns it to the name given. You can further re-assign the same function object to other names"
   ]
  },
  {
   "cell_type": "raw",
   "id": "7e66f701-2905-4449-a26e-e64c8d4c0603",
   "metadata": {},
   "source": [
    "4. What is the difference between a function and a function call?\n",
    "Ans:\n",
    "    A function is a block of code that does a particular operation and returns a result. It usually accepts inputs as parameters and returns a result. The parameters are not mandatory.\n",
    "E.g:\n",
    "def add(a,b):\n",
    "    return a+ b\n",
    "\n",
    "A function call is the code used to pass control to a function.\n",
    "\n",
    "E.g.:\n",
    "\n",
    "b = add(5,6)\n",
    "\n",
    "Now b will have the value 11."
   ]
  },
  {
   "cell_type": "raw",
   "id": "3d2c4524-b39f-41db-959b-5807a9a9eb22",
   "metadata": {},
   "source": [
    "5. How many global scopes are there in a Python program? How many local scopes?\n",
    "Ans:\n",
    "    You will learn about the four different scopes with the help of examples: local, enclosing, global, and built-in. \n",
    "    These scopes together form the basis for the LEGB rule used by the Python interpreter when working with variables\n",
    "    There is one global scope, and a local scope is created whenever a function is calle"
   ]
  },
  {
   "cell_type": "raw",
   "id": "ee1a388b-07fb-485c-83d1-60a7f7a4b26b",
   "metadata": {},
   "source": [
    "6. What happens to variables in a local scope when the function call returns?\n",
    "Ans:\n",
    "    When the execution of the function terminates (returns), the local variables are destroyed."
   ]
  },
  {
   "cell_type": "raw",
   "id": "dc20be8e-c050-4a4f-86b1-225c539c8b3f",
   "metadata": {},
   "source": [
    "7. What is the concept of a return value? Is it possible to have a return value in an expression?\n",
    "Ans: \n",
    "    A return value is the value that a function call evaluates to. Like any value, a return value can be used as part of an expression"
   ]
  },
  {
   "cell_type": "raw",
   "id": "d519a449-8d86-4e6e-8865-07dd4baac90c",
   "metadata": {},
   "source": [
    "8. If a function does not have a return statement, what is the return value of a call to that function?\n",
    "Ans:\n",
    "    If no return statement appears in a function definition, control automatically returns to the calling function after the last statement of the called function is executed. In this case, the return value of the called function is undefined.\n",
    "    If there is no return statement for a function, its return value is None."
   ]
  },
  {
   "cell_type": "raw",
   "id": "4bbb62fa-405b-4c90-99d3-5805107c56fd",
   "metadata": {},
   "source": [
    "9. How do you make a function variable refer to the global variable?\n",
    "Ans:\n",
    "     When you create a variable inside a function, that variable is local, and can only be used inside that function. To create a global variable inside a function, you can use the global keyword.\n",
    "    A global statement will force a variable in a function to refer to the global variable\n",
    "    "
   ]
  },
  {
   "cell_type": "raw",
   "id": "e7699c27-63c8-43d0-8e0c-75b50f78b848",
   "metadata": {},
   "source": [
    "10. What is the data type of None?\n",
    "Ans:\n",
    "    The data type of None is NoneType."
   ]
  },
  {
   "cell_type": "raw",
   "id": "19b3bb43-4789-4b1e-a86e-2a112ed34065",
   "metadata": {},
   "source": [
    "11. What does the sentence import areallyourpetsnamederic do?\n",
    "Ans:\n",
    "    That import statement imports a module named areallyourpetsnamederic."
   ]
  },
  {
   "cell_type": "raw",
   "id": "683c7e28-d664-4ad6-bf5b-8b3f6e5b0b39",
   "metadata": {},
   "source": [
    "12. If you had a bacon() feature in a spam module, what would you call it after importing spam?\n",
    "Ans:\n",
    "    In spam module used bacon() feature and This function can be called with spam. bacon().\n",
    "    "
   ]
  },
  {
   "cell_type": "raw",
   "id": "977015d0-4068-48fb-b97b-e9366d6312b0",
   "metadata": {},
   "source": [
    "13. What can you do to save a programme from crashing if it encounters an error?\n",
    "Ans:\n",
    "    When it encounters an error, the control is passed to the except block, skipping the code in between. As seen in the above code, we have moved our code inside a try and except statement. Try running the program and it should throw an error message instead of crashing the program\n",
    "    "
   ]
  },
  {
   "cell_type": "raw",
   "id": "35570e43-9a5c-467e-b6c3-092d085cc49e",
   "metadata": {},
   "source": [
    "14. What is the purpose of the try clause? What is the purpose of the except clause?\n",
    "Ans: \n",
    "    The try block lets you test a block of code for errors. The except block lets you handle the error. The else block lets you execute code when there is no error. The finally block lets you execute code, regardless of the result of the try- and except blocks"
   ]
  }
 ],
 "metadata": {
  "kernelspec": {
   "display_name": "Python 3 (ipykernel)",
   "language": "python",
   "name": "python3"
  },
  "language_info": {
   "codemirror_mode": {
    "name": "ipython",
    "version": 3
   },
   "file_extension": ".py",
   "mimetype": "text/x-python",
   "name": "python",
   "nbconvert_exporter": "python",
   "pygments_lexer": "ipython3",
   "version": "3.10.6"
  }
 },
 "nbformat": 4,
 "nbformat_minor": 5
}
