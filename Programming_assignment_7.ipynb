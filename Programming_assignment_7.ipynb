{
 "cells": [
  {
   "cell_type": "raw",
   "id": "a24432cc-a295-430b-90e5-e123c59d0979",
   "metadata": {},
   "source": [
    "1.\tWrite a Python Program to find sum of array?\n"
   ]
  },
  {
   "cell_type": "code",
   "execution_count": 4,
   "id": "5e81b421-9447-4092-8520-22c97f4917c5",
   "metadata": {},
   "outputs": [
    {
     "name": "stdout",
     "output_type": "stream",
     "text": [
      "6\n"
     ]
    }
   ],
   "source": [
    "def _sum(arr):\n",
    "    sum=0\n",
    "    for i in arr:\n",
    "        sum=sum+i\n",
    "    return sum\n",
    "arr={1,2,3}\n",
    "print(_sum(arr))"
   ]
  },
  {
   "cell_type": "raw",
   "id": "97bd811d-d9da-4340-a7d2-3243ed380116",
   "metadata": {},
   "source": [
    "2.\tWrite a Python Program to find largest element in an array?\n"
   ]
  },
  {
   "cell_type": "code",
   "execution_count": 12,
   "id": "7ecd5978-42c7-440e-9e47-b4d7cfb8ebc8",
   "metadata": {},
   "outputs": [
    {
     "name": "stdout",
     "output_type": "stream",
     "text": [
      "20\n"
     ]
    }
   ],
   "source": [
    "arr=[10,20,4]\n",
    "def largestnum(arr):\n",
    "    max=arr[0]\n",
    "    for i in range(1,len(arr)):\n",
    "        if arr[i]>max:\n",
    "            max=arr[i]\n",
    "    return max\n",
    "print(largestnum(arr))"
   ]
  },
  {
   "cell_type": "raw",
   "id": "38715ea9-e0d0-4ee6-bdd4-6d8ac9b99e6a",
   "metadata": {},
   "source": [
    "3.\tWrite a Python Program for array rotation?\n"
   ]
  },
  {
   "cell_type": "code",
   "execution_count": 14,
   "id": "6be43491-373c-4bee-9a2d-63b9c17569ca",
   "metadata": {},
   "outputs": [
    {
     "name": "stdout",
     "output_type": "stream",
     "text": [
      "Original array: [1, 2, 3, 4, 5, 6, 7, 8]\n",
      "Rotated array:  [2, 3, 4, 5, 6, 7, 8, 1]\n"
     ]
    }
   ],
   "source": [
    "arr=[10,20,4]\n",
    "arr[::-1]\n",
    "#Python program to left-rotate the given array\n",
    "\n",
    "#Function reverse the given array by swapping first and last numbers.\n",
    "def reverse(start,end,arr):\n",
    "\n",
    "\t#No of iterations needed for reversing the list\n",
    "\tno_of_reverse=end-start+1\n",
    "\n",
    "\t#By incrementing count value swapping of first and last elements is done.\n",
    "\tcount=0\n",
    "\twhile((no_of_reverse)//2!=count):\n",
    "\t\tarr[start+count],arr[end-count]=arr[end-count],arr[start+count]\n",
    "\t\tcount+=1\n",
    "\treturn arr\n",
    "\n",
    "#Function takes array, length of array and no of rotations as input\n",
    "def left_rotate_array(arr,size,d):\n",
    "\tstart=0\n",
    "\tend=size-1\n",
    "\tarr=reverse(start,end,arr)\n",
    "\tstart=0\n",
    "\tend=size-d-1\n",
    "\tarr=reverse(start,end,arr)\n",
    "\tstart=size-d\n",
    "\tend=size-1\n",
    "\tarr=reverse(start,end,arr)\n",
    "\treturn arr\n",
    "\t\n",
    "arr=[1,2,3,4,5,6,7,8]\n",
    "size=8\n",
    "d=1\n",
    "print('Original array:',arr)\n",
    "\n",
    "if(d<=size):\n",
    "\tprint('Rotated array: ',left_rotate_array(arr,size,d))\n",
    "else:\n",
    "\td=d%size\n",
    "\tprint('Rotated array: ',left_rotate_array(arr,size,d))\n"
   ]
  },
  {
   "cell_type": "raw",
   "id": "a1ba00f7-bb5a-423f-a0c0-d77633983209",
   "metadata": {},
   "source": [
    "4.\tWrite a Python Program to Split the array and add the first part to the end?\n"
   ]
  },
  {
   "cell_type": "code",
   "execution_count": 17,
   "id": "6ea0f89e-a1e1-4a2a-993f-cdad2c1a82ef",
   "metadata": {},
   "outputs": [
    {
     "name": "stdout",
     "output_type": "stream",
     "text": [
      "5 6 52 36 12 10 "
     ]
    }
   ],
   "source": [
    "def splitArr(arr, n, k):\n",
    "\tfor i in range(0, k):\n",
    "\t\tx = arr[0]\n",
    "\t\tfor j in range(0, n-1):\n",
    "\t\t\tarr[j] = arr[j + 1]\n",
    "\t\t\n",
    "\t\tarr[n-1] = x\n",
    "\t\t\n",
    "\n",
    "# main\n",
    "arr = [12, 10, 5, 6, 52, 36]\n",
    "n = len(arr)\n",
    "position = 2\n",
    "\n",
    "splitArr(arr, n, position)\n",
    "\n",
    "for i in range(0, n):\n",
    "\tprint(arr[i], end = ' ')\n"
   ]
  },
  {
   "cell_type": "raw",
   "id": "0b411f44-955b-4490-9999-547f6ed1f61b",
   "metadata": {},
   "source": [
    "5.\tWrite a Python Program to check if given array is Monotonic?\n"
   ]
  },
  {
   "cell_type": "code",
   "execution_count": 19,
   "id": "64e97dce-b20b-4c23-877b-f66d1f034eef",
   "metadata": {},
   "outputs": [
    {
     "name": "stdout",
     "output_type": "stream",
     "text": [
      "True\n"
     ]
    }
   ],
   "source": [
    "# Check if given array is Monotonic\n",
    "def isMonotonic(A):\n",
    "\tx, y = [], []\n",
    "\tx.extend(A)\n",
    "\ty.extend(A)\n",
    "\tx.sort()\n",
    "\ty.sort(reverse=True)\n",
    "\tif(x == A or y == A):\n",
    "\t\treturn True\n",
    "\treturn False\n",
    "\n",
    "\n",
    "# Driver program\n",
    "A = [6, 5, 4, 4]\n",
    "\n",
    "# Print required result\n",
    "print(isMonotonic(A))\n"
   ]
  }
 ],
 "metadata": {
  "kernelspec": {
   "display_name": "Python 3 (ipykernel)",
   "language": "python",
   "name": "python3"
  },
  "language_info": {
   "codemirror_mode": {
    "name": "ipython",
    "version": 3
   },
   "file_extension": ".py",
   "mimetype": "text/x-python",
   "name": "python",
   "nbconvert_exporter": "python",
   "pygments_lexer": "ipython3",
   "version": "3.10.6"
  }
 },
 "nbformat": 4,
 "nbformat_minor": 5
}
